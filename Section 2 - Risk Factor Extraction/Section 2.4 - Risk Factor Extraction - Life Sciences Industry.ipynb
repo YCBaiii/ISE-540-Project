{
 "cells": [
  {
   "cell_type": "markdown",
   "id": "209b9203",
   "metadata": {},
   "source": [
    "# Section 2 Risk Factor Extraction\n",
    "\n",
    "In section 1, we have downloaded the fincancial reports from 2019Q1 to 2023Q3. In this section, we are going to extract the risk factor text from each of these files. According to the requirement of the 10-K form given by SEC (https://www.sec.gov/files/form10-k.pdf), there is an section named \"Item 1A. Risk Factors\" included in the form  which shows the potential risks faced by the company. Therefore, it is important for us to filter and cleanse the text from this part so that we can use it for further analysis."
   ]
  },
  {
   "cell_type": "code",
   "execution_count": 1,
   "id": "66732524",
   "metadata": {},
   "outputs": [],
   "source": [
    "import pandas as pd\n",
    "import numpy as np\n",
    "import requests\n",
    "import os\n",
    "import re\n",
    "import html\n",
    "import warnings\n",
    "warnings.filterwarnings(\"ignore\")"
   ]
  },
  {
   "cell_type": "markdown",
   "id": "e4583031",
   "metadata": {},
   "source": [
    "# 2.4 Life Sciences Industry (2834, 2836)\n",
    "\n",
    "In this section, we only focus on companies in Life Sciences Industry."
   ]
  },
  {
   "cell_type": "markdown",
   "id": "f5597c74",
   "metadata": {},
   "source": [
    "## 2.4.1 Industry 2834\n",
    "\n",
    "### 1. Read in the files and store in a dictionary"
   ]
  },
  {
   "cell_type": "code",
   "execution_count": 2,
   "id": "7d0f61a1",
   "metadata": {},
   "outputs": [],
   "source": [
    "folderPath = \"E:/Jupyter Notebook Files/ISE 540_Text Analytics/Project/Downloaded Financial Reports/Life Sciences Industry/Industry_2834/\"\n",
    "fileName_lst = os.listdir(folderPath)\n",
    "filePair_dict = {} # filePair stores the file name and the corresponding file text.\n",
    "for fileName in fileName_lst:  \n",
    "    # encode each document\n",
    "    filePath = str(folderPath) + str(fileName)    \n",
    "    with open(filePath, 'r', encoding='utf-8') as file:\n",
    "        fileText = file.read()\n",
    "    filePair_dict[fileName] = fileText"
   ]
  },
  {
   "cell_type": "code",
   "execution_count": 3,
   "id": "11835912",
   "metadata": {
    "scrolled": true
   },
   "outputs": [
    {
     "data": {
      "text/plain": [
       "dict_keys(['0000014272-23-000046.txt', '0000806592-22-000024.txt', '0000831547-23-000007.txt', '0000849146-22-000058.txt', '0000868278-23-000004.txt', '0000950170-22-010852.txt', '0000950170-22-011842.txt', '0000950170-22-012521.txt', '0000950170-22-012532.txt', '0000950170-22-018236.txt', '0000950170-22-018865.txt', '0000950170-23-010380.txt', '0000950170-23-010428.txt', '0000950170-23-010432.txt', '0000950170-23-010435.txt', '0000950170-23-010599.txt', '0000950170-23-010603.txt', '0000950170-23-010613.txt', '0000950170-23-010627.txt', '0000950170-23-010757.txt', '0000950170-23-010920.txt', '0000950170-23-010921.txt', '0000950170-23-010967.txt', '0000950170-23-010973.txt', '0000950170-23-010977.txt', '0000950170-23-011000.txt', '0000950170-23-011011.txt', '0000950170-23-011047.txt', '0000950170-23-011138.txt', '0000950170-23-011139.txt', '0000950170-23-011328.txt', '0000950170-23-011354.txt', '0000950170-23-011355.txt', '0000950170-23-011358.txt', '0000950170-23-011364.txt', '0000950170-23-011440.txt', '0001005286-22-000047.txt', '0001012477-23-000009.txt', '0001062993-23-008012.txt', '0001096906-22-002384.txt', '0001104659-22-041326.txt', '0001104659-22-045482.txt', '0001104659-23-040158.txt', '0001104659-23-040275.txt', '0001140361-22-014764.txt', '0001140361-23-014526.txt', '0001140361-23-014658.txt', '0001140361-23-014868.txt', '0001185185-22-000827.txt', '0001193125-22-092371.txt', '0001193125-22-183362.txt', '0001193125-22-237075.txt', '0001193125-23-087377.txt', '0001193125-23-087990.txt', '0001213900-22-019462.txt', '0001213900-22-020179.txt', '0001213900-22-027311.txt', '0001213900-22-056075.txt', '0001213900-22-058355.txt', '0001213900-23-024260.txt', '0001213900-23-024310.txt', '0001213900-23-024571.txt', '0001213900-23-024710.txt', '0001213900-23-024719.txt', '0001213900-23-024755.txt', '0001213900-23-024901.txt', '0001213900-23-025306.txt', '0001213900-23-025454.txt', '0001213900-23-025455.txt', '0001213900-23-025521.txt', '0001213900-23-025554.txt', '0001213900-23-025597.txt', '0001214659-22-008985.txt', '0001214659-23-004512.txt', '0001267602-23-000027.txt', '0001295947-22-000015.txt', '0001356576-22-000025.txt', '0001393905-23-000156.txt', '0001401914-23-000013.txt', '0001410578-22-000925.txt', '0001410578-22-000947.txt', '0001410578-23-000428.txt', '0001410578-23-000485.txt', '0001410578-23-000511.txt', '0001410578-23-000557.txt', '0001410578-23-000565.txt', '0001410578-23-000575.txt', '0001437749-22-008982.txt', '0001437749-22-022334.txt', '0001437749-22-023194.txt', '0001437749-23-008502.txt', '0001437749-23-008737.txt', '0001437749-23-008834.txt', '0001437749-23-008843.txt', '0001437749-23-008847.txt', '0001467154-23-000029.txt', '0001472375-22-000055.txt', '0001477932-22-001921.txt', '0001477932-22-004396.txt', '0001477932-22-007292.txt', '0001477932-23-002112.txt', '0001493152-22-008703.txt', '0001493152-22-009519.txt', '0001493152-22-009683.txt', '0001493152-22-009861.txt', '0001493152-22-009882.txt', '0001493152-22-009974.txt', '0001493152-22-010053.txt', '0001493152-22-010064.txt', '0001493152-22-010094.txt', '0001493152-22-010133.txt', '0001493152-22-010161.txt', '0001493152-22-018108.txt', '0001493152-22-019367.txt', '0001493152-22-022442.txt', '0001493152-22-025448.txt', '0001493152-22-026974.txt', '0001493152-22-027033.txt', '0001493152-23-009381.txt', '0001493152-23-009385.txt', '0001493152-23-009386.txt', '0001493152-23-009516.txt', '0001493152-23-009563.txt', '0001493152-23-009604.txt', '0001493152-23-009609.txt', '0001493152-23-009730.txt', '0001493152-23-009812.txt', '0001493152-23-009844.txt', '0001493152-23-010104.txt', '0001493152-23-010129.txt', '0001493152-23-010152.txt', '0001493152-23-010160.txt', '0001493152-23-010259.txt', '0001493152-23-010284.txt', '0001493152-23-010285.txt', '0001493152-23-010332.txt', '0001493152-23-010383.txt', '0001493152-23-010431.txt', '0001510964-22-000033.txt', '0001510964-23-000016.txt', '0001516551-23-000038.txt', '0001520138-22-000437.txt', '0001539497-22-000793.txt', '0001555280-23-000074.txt', '0001558370-22-013680.txt', '0001558370-22-013940.txt', '0001558370-22-013954.txt', '0001558370-22-014432.txt', '0001558370-22-014652.txt', '0001558370-23-004864.txt', '0001558370-23-004871.txt', '0001558370-23-004916.txt', '0001558370-23-004966.txt', '0001558370-23-004979.txt', '0001558370-23-004988.txt', '0001558370-23-005073.txt', '0001558370-23-005081.txt', '0001558370-23-005096.txt', '0001558370-23-005107.txt', '0001558370-23-005126.txt', '0001558370-23-005127.txt', '0001558370-23-005200.txt', '0001558370-23-005276.txt', '0001558370-23-005282.txt', '0001558370-23-005284.txt', '0001558370-23-005289.txt', '0001558370-23-005292.txt', '0001558370-23-005294.txt', '0001558370-23-005304.txt', '0001564590-22-021213.txt', '0001564590-23-004830.txt', '0001564590-23-004898.txt', '0001583771-22-000003.txt', '0001596783-22-000129.txt', '0001607062-22-000284.txt', '0001607062-22-000470.txt', '0001628280-22-008830.txt', '0001628280-23-009583.txt', '0001628280-23-009630.txt', '0001628280-23-009774.txt', '0001628280-23-010145.txt', '0001628280-23-010180.txt', '0001636050-22-000035.txt', '0001640334-23-000509.txt', '0001640334-23-000532.txt', '0001654954-22-005014.txt', '0001654954-22-012862.txt', '0001654954-23-003945.txt', '0001663577-23-000137.txt', '0001679082-22-000071.txt', '0001683168-22-002703.txt', '0001683168-22-004704.txt', '0001683168-22-004940.txt', '0001683168-23-002086.txt', '0001753926-23-000352.txt', '0001798749-23-000015.txt', '0001819615-23-000030.txt', '0001829126-23-002497.txt', '0001851734-22-000349.txt', '0001903596-22-000199.txt'])"
      ]
     },
     "execution_count": 3,
     "metadata": {},
     "output_type": "execute_result"
    }
   ],
   "source": [
    "filePair_dict.keys()"
   ]
  },
  {
   "cell_type": "markdown",
   "id": "430007e8",
   "metadata": {},
   "source": [
    "### 2. Extract the raw risk factor text"
   ]
  },
  {
   "cell_type": "code",
   "execution_count": 4,
   "id": "3f5e35d1",
   "metadata": {},
   "outputs": [],
   "source": [
    "def remove_tags(text):\n",
    "    # replace the tag included by <> to a \\ \n",
    "    pattern1 = r'<[^>]*>'\n",
    "    cleanText = re.sub(pattern1, \"|\", text)\n",
    "    \n",
    "    # replace the multiple continued \\ to a single \\\n",
    "    cleanText = re.sub(r'\\s*\\|+\\s*', '|', cleanText)\n",
    "    cleanText = re.sub(r'\\|+', '|', cleanText)\n",
    "    \n",
    "    # replace the unicode\n",
    "    cleanText = html.unescape(cleanText)\n",
    "    \n",
    "    # remove the line break\n",
    "    cleanText = cleanText.replace('\\n', '')\n",
    "    # remove the pure numbers text between \\\n",
    "    cleanText = re.sub(r'\\|(\\d+)\\|', '|', cleanText)\n",
    "    # remove the unrecognized string\n",
    "    cleanText = re.sub(r'|\\xa0\\|', '', cleanText)\n",
    "    cleanText = re.sub(r'|\\xa0|', '', cleanText)\n",
    "    return cleanText"
   ]
  },
  {
   "cell_type": "code",
   "execution_count": 5,
   "id": "d16e20d9",
   "metadata": {},
   "outputs": [],
   "source": [
    "def separate_main_body(text):\n",
    "    lastContentInTC_lst = [\">form 10-k summary<\", \">item 16. form 10-k summary<\", r\">exhibits, financial statement schedules<\", \n",
    "                           r\">exhibits and financial statement schedules<\", r\"exhibits and financial statement schedules <\",\n",
    "                           \">exhibits<\"]\n",
    "    start_idx = -1\n",
    "    for content in lastContentInTC_lst:\n",
    "        if content in text.lower():\n",
    "            start_idx = text.lower().find(content)\n",
    "            break\n",
    "            \n",
    "    if start_idx == -1:\n",
    "        return False\n",
    "    \n",
    "    mainBody = text[start_idx:]\n",
    "    mainBody = html.unescape(mainBody)\n",
    "    return mainBody"
   ]
  },
  {
   "cell_type": "code",
   "execution_count": 6,
   "id": "cfc79098",
   "metadata": {},
   "outputs": [],
   "source": [
    "def extract_risk_factors(mainBody, fileName):\n",
    "    # match the risk factor\n",
    "    keywordMatch = re.findall(r\">item 1a.\\s+risk factors\\.?\\<\", mainBody.lower())\n",
    "    \n",
    "    # if fail to match the pattern, the pattern might be segmented be some html tags, so re-match\n",
    "    if not keywordMatch:\n",
    "        keyword = seperated_keyword_rematch(mainBody)\n",
    "        \n",
    "    # if match the pattern successfully, just keep the keyword of risk factor\n",
    "    else:\n",
    "        keyword = keywordMatch[0]\n",
    "    \n",
    "    # check if match successfully\n",
    "    if not keyword:\n",
    "        return False\n",
    "    keywordCheck_lst = [\"item\", r\"item 1a\\.?\", \"risk\", \"factors\", \"risk factors\"]\n",
    "    if keyword in keywordCheck_lst:\n",
    "        print(\"Warning: It is better to check whether the extraction is correct manually for file\", {fileName})\n",
    "    \n",
    "    # match the next section of the risk factor\n",
    "    nextSectionPattern_lst = [r\">item 1b.\\s+unresolved staff comments\\.?\\<\", r\">item 2.\\s+description of property\\.?\\<\"]\n",
    "    for pattern in nextSectionPattern_lst:\n",
    "        nextSectionMatch = re.findall(pattern, mainBody.lower())\n",
    "        \n",
    "        # if fail to match the pattern, the pattern might be segmented be some html tags, so re-match\n",
    "        if not nextSectionMatch:\n",
    "            nextSection = seperated_next_section_rematch(mainBody, pattern)\n",
    "            # if re-match successfully, jump out of the loop\n",
    "            if nextSection:\n",
    "                break\n",
    "        \n",
    "        # if match the pattern successfully, just keep the next section keyword and jump out of the loop\n",
    "        else:\n",
    "            nextSection = nextSectionMatch[0]\n",
    "            break\n",
    "    \n",
    "    # check if match successfully\n",
    "    if not nextSection:\n",
    "        return False\n",
    "    \n",
    "    # if match successfully, extract the risk factor\n",
    "    start_idx = mainBody.lower().find(keyword) # start index is the position of the keyword occured in the main body\n",
    "    end_idx = mainBody.lower().find(nextSection) # end index is the position of the next section begin in the main body\n",
    "    riskFactors = mainBody[start_idx: end_idx]\n",
    "    return riskFactors"
   ]
  },
  {
   "cell_type": "code",
   "execution_count": 7,
   "id": "b8609aed",
   "metadata": {},
   "outputs": [],
   "source": [
    "def seperated_keyword_rematch(mainBody):\n",
    "    cleanedMainBody = remove_tags(mainBody)\n",
    "    keywordMatch = re.findall(r\"i\\|?t\\|?e\\|?m\\|?\\s+\\|?1\\|?a\\|?.\\|?\\s+\\|?r\\|?i\\|?s\\|?k\\|?\\s+\\|?f\\|?a\\|?c\\|?t\\|?o\\|?r\\|?s\\.?\", cleanedMainBody.lower())\n",
    "    \n",
    "    # check if re-match the keyword of risk factor successfully\n",
    "    if not keywordMatch:\n",
    "        return False\n",
    "    \n",
    "    # if re-match successfully, use the longer segmentation as the keyword of the risk factor\n",
    "    reMatchedKeyword = max(keywordMatch[0].split('|'), key=len)\n",
    "    return reMatchedKeyword\n",
    "    \n",
    "def seperated_next_section_rematch(mainBody, nextSectionPattern):\n",
    "    # cleanse the main body text\n",
    "    cleanedMainBody = remove_tags(mainBody)\n",
    "    \n",
    "    # edit the pattern \n",
    "    edittedPattern = nextSectionPattern.replace(r\">\", \"\").replace(r\"\\s+\", \" \").replace(r\"\\.?\\<\", \"\")\n",
    "    edittedPattern = \"\\|?\".join(edittedPattern)\n",
    "    edittedPattern = r\"{}\\.?\".format(edittedPattern)\n",
    "    pattern = edittedPattern.replace(\" \", \"\\s?+\")\n",
    "    nextSectionMatch = re.findall(pattern, cleanedMainBody.lower())\n",
    "    \n",
    "    # check if re-match the keyword of next section successfully\n",
    "    if not nextSectionMatch:\n",
    "        return False\n",
    "    \n",
    "    # if re-match successfully, use the longer segmentation as the keyword of the next section \n",
    "    reMatchedNextSection = max(nextSectionMatch[0].split('|'), key=len)\n",
    "    return reMatchedNextSection"
   ]
  },
  {
   "cell_type": "code",
   "execution_count": 8,
   "id": "72c7e086",
   "metadata": {
    "scrolled": true
   },
   "outputs": [
    {
     "name": "stdout",
     "output_type": "stream",
     "text": [
      "The extraction is failed for {'0000806592-22-000024.txt'} because of the error in seperating main body.\n",
      "The extraction is failed for {'0000849146-22-000058.txt'} because of the error in extracting risk factors.\n",
      "The extraction is failed for {'0000950170-22-012521.txt'} because of the error in extracting risk factors.\n",
      "The extraction is failed for {'0000950170-23-010599.txt'} because of the error in extracting risk factors.\n",
      "The extraction is failed for {'0000950170-23-011138.txt'} because of the error in extracting risk factors.\n",
      "The extraction is failed for {'0000950170-23-011139.txt'} because of the error in extracting risk factors.\n",
      "The extraction is failed for {'0001005286-22-000047.txt'} because of the error in extracting risk factors.\n",
      "The extraction is failed for {'0001096906-22-002384.txt'} because of the error in extracting risk factors.\n",
      "The extraction is failed for {'0001104659-22-041326.txt'} because of the error in extracting risk factors.\n",
      "The extraction is failed for {'0001104659-22-045482.txt'} because of the error in extracting risk factors.\n",
      "The extraction is failed for {'0001104659-23-040158.txt'} because of the error in extracting risk factors.\n",
      "The extraction is failed for {'0001104659-23-040275.txt'} because of the error in extracting risk factors.\n",
      "The extraction is failed for {'0001140361-22-014764.txt'} because of the error in extracting risk factors.\n",
      "The extraction is failed for {'0001140361-23-014658.txt'} because of the error in extracting risk factors.\n",
      "The extraction is failed for {'0001185185-22-000827.txt'} because of the error in extracting risk factors.\n",
      "The extraction is failed for {'0001193125-22-092371.txt'} because of the error in extracting risk factors.\n",
      "The extraction is failed for {'0001193125-22-183362.txt'} because of the error in extracting risk factors.\n",
      "The extraction is failed for {'0001193125-22-237075.txt'} because of the error in extracting risk factors.\n",
      "The extraction is failed for {'0001193125-23-087377.txt'} because of the error in extracting risk factors.\n",
      "The extraction is failed for {'0001193125-23-087990.txt'} because of the error in extracting risk factors.\n",
      "The extraction is failed for {'0001213900-22-019462.txt'} because of the error in extracting risk factors.\n",
      "The extraction is failed for {'0001213900-22-020179.txt'} because of the error in extracting risk factors.\n",
      "The extraction is failed for {'0001213900-22-056075.txt'} because of the error in extracting risk factors.\n",
      "The extraction is failed for {'0001213900-22-058355.txt'} because of the error in extracting risk factors.\n",
      "The extraction is failed for {'0001213900-23-024719.txt'} because of the error in seperating main body.\n",
      "The extraction is failed for {'0001213900-23-024755.txt'} because of the error in seperating main body.\n",
      "The extraction is failed for {'0001213900-23-025306.txt'} because of the error in extracting risk factors.\n",
      "The extraction is failed for {'0001213900-23-025454.txt'} because of the error in extracting risk factors.\n",
      "The extraction is failed for {'0001213900-23-025521.txt'} because of the error in seperating main body.\n",
      "The extraction is failed for {'0001214659-22-008985.txt'} because of the error in extracting risk factors.\n",
      "The extraction is failed for {'0001267602-23-000027.txt'} because of the error in extracting risk factors.\n",
      "The extraction is failed for {'0001393905-23-000156.txt'} because of the error in seperating main body.\n",
      "The extraction is failed for {'0001410578-22-000925.txt'} because of the error in extracting risk factors.\n",
      "The extraction is failed for {'0001410578-23-000428.txt'} because of the error in extracting risk factors.\n",
      "The extraction is failed for {'0001410578-23-000485.txt'} because of the error in extracting risk factors.\n",
      "The extraction is failed for {'0001410578-23-000511.txt'} because of the error in seperating main body.\n",
      "The extraction is failed for {'0001410578-23-000565.txt'} because of the error in extracting risk factors.\n",
      "The extraction is failed for {'0001410578-23-000575.txt'} because of the error in extracting risk factors.\n",
      "The extraction is failed for {'0001437749-22-008982.txt'} because of the error in extracting risk factors.\n",
      "The extraction is failed for {'0001437749-22-023194.txt'} because of the error in extracting risk factors.\n",
      "The extraction is failed for {'0001437749-23-008502.txt'} because of the error in extracting risk factors.\n",
      "The extraction is failed for {'0001437749-23-008737.txt'} because of the error in extracting risk factors.\n",
      "The extraction is failed for {'0001437749-23-008834.txt'} because of the error in extracting risk factors.\n",
      "The extraction is failed for {'0001437749-23-008843.txt'} because of the error in extracting risk factors.\n",
      "The extraction is failed for {'0001477932-22-004396.txt'} because of the error in extracting risk factors.\n",
      "The extraction is failed for {'0001493152-22-008703.txt'} because of the error in extracting risk factors.\n",
      "The extraction is failed for {'0001493152-22-009519.txt'} because of the error in extracting risk factors.\n",
      "The extraction is failed for {'0001493152-22-009683.txt'} because of the error in extracting risk factors.\n",
      "The extraction is failed for {'0001493152-22-009861.txt'} because of the error in seperating main body.\n",
      "The extraction is failed for {'0001493152-22-009882.txt'} because of the error in extracting risk factors.\n",
      "The extraction is failed for {'0001493152-22-009974.txt'} because of the error in extracting risk factors.\n",
      "The extraction is failed for {'0001493152-22-010053.txt'} because of the error in extracting risk factors.\n",
      "The extraction is failed for {'0001493152-22-010094.txt'} because of the error in extracting risk factors.\n",
      "The extraction is failed for {'0001493152-22-010133.txt'} because of the error in extracting risk factors.\n",
      "The extraction is failed for {'0001493152-22-010161.txt'} because of the error in extracting risk factors.\n",
      "The extraction is failed for {'0001493152-22-018108.txt'} because of the error in extracting risk factors.\n",
      "The extraction is failed for {'0001493152-22-019367.txt'} because of the error in extracting risk factors.\n",
      "The extraction is failed for {'0001493152-22-022442.txt'} because of the error in extracting risk factors.\n",
      "The extraction is failed for {'0001493152-22-025448.txt'} because of the error in extracting risk factors.\n",
      "The extraction is failed for {'0001493152-22-026974.txt'} because of the error in extracting risk factors.\n",
      "The extraction is failed for {'0001493152-22-027033.txt'} because of the error in extracting risk factors.\n",
      "The extraction is failed for {'0001493152-23-009381.txt'} because of the error in extracting risk factors.\n",
      "The extraction is failed for {'0001493152-23-009385.txt'} because of the error in extracting risk factors.\n",
      "The extraction is failed for {'0001493152-23-009516.txt'} because of the error in extracting risk factors.\n",
      "The extraction is failed for {'0001493152-23-009563.txt'} because of the error in extracting risk factors.\n",
      "The extraction is failed for {'0001493152-23-009604.txt'} because of the error in extracting risk factors.\n",
      "The extraction is failed for {'0001493152-23-009609.txt'} because of the error in seperating main body.\n",
      "The extraction is failed for {'0001493152-23-009730.txt'} because of the error in extracting risk factors.\n",
      "The extraction is failed for {'0001493152-23-009812.txt'} because of the error in extracting risk factors.\n",
      "The extraction is failed for {'0001493152-23-009844.txt'} because of the error in extracting risk factors.\n",
      "The extraction is failed for {'0001493152-23-010104.txt'} because of the error in extracting risk factors.\n",
      "The extraction is failed for {'0001493152-23-010152.txt'} because of the error in extracting risk factors.\n",
      "The extraction is failed for {'0001493152-23-010259.txt'} because of the error in extracting risk factors.\n",
      "The extraction is failed for {'0001493152-23-010284.txt'} because of the error in extracting risk factors.\n",
      "The extraction is failed for {'0001493152-23-010285.txt'} because of the error in seperating main body.\n",
      "The extraction is failed for {'0001493152-23-010332.txt'} because of the error in extracting risk factors.\n",
      "The extraction is failed for {'0001493152-23-010383.txt'} because of the error in seperating main body.\n"
     ]
    },
    {
     "name": "stdout",
     "output_type": "stream",
     "text": [
      "The extraction is failed for {'0001493152-23-010431.txt'} because of the error in extracting risk factors.\n",
      "The extraction is failed for {'0001516551-23-000038.txt'} because of the error in extracting risk factors.\n",
      "The extraction is failed for {'0001520138-22-000437.txt'} because of the error in extracting risk factors.\n",
      "The extraction is failed for {'0001539497-22-000793.txt'} because of the error in extracting risk factors.\n",
      "The extraction is failed for {'0001558370-22-013680.txt'} because of the error in extracting risk factors.\n",
      "The extraction is failed for {'0001558370-22-013940.txt'} because of the error in extracting risk factors.\n",
      "The extraction is failed for {'0001558370-22-013954.txt'} because of the error in seperating main body.\n",
      "The extraction is failed for {'0001558370-22-014652.txt'} because of the error in extracting risk factors.\n",
      "The extraction is failed for {'0001558370-23-004864.txt'} because of the error in extracting risk factors.\n",
      "The extraction is failed for {'0001558370-23-004871.txt'} because of the error in seperating main body.\n",
      "The extraction is failed for {'0001558370-23-004979.txt'} because of the error in extracting risk factors.\n",
      "The extraction is failed for {'0001558370-23-004988.txt'} because of the error in extracting risk factors.\n",
      "The extraction is failed for {'0001558370-23-005073.txt'} because of the error in extracting risk factors.\n",
      "The extraction is failed for {'0001558370-23-005081.txt'} because of the error in seperating main body.\n",
      "The extraction is failed for {'0001558370-23-005096.txt'} because of the error in extracting risk factors.\n",
      "The extraction is failed for {'0001558370-23-005107.txt'} because of the error in extracting risk factors.\n",
      "The extraction is failed for {'0001558370-23-005200.txt'} because of the error in extracting risk factors.\n",
      "The extraction is failed for {'0001558370-23-005282.txt'} because of the error in seperating main body.\n",
      "The extraction is failed for {'0001558370-23-005284.txt'} because of the error in extracting risk factors.\n",
      "The extraction is failed for {'0001558370-23-005289.txt'} because of the error in extracting risk factors.\n",
      "The extraction is failed for {'0001558370-23-005292.txt'} because of the error in seperating main body.\n",
      "The extraction is failed for {'0001558370-23-005294.txt'} because of the error in extracting risk factors.\n",
      "The extraction is failed for {'0001558370-23-005304.txt'} because of the error in extracting risk factors.\n",
      "The extraction is failed for {'0001564590-22-021213.txt'} because of the error in extracting risk factors.\n",
      "The extraction is failed for {'0001564590-23-004830.txt'} because of the error in extracting risk factors.\n",
      "The extraction is failed for {'0001564590-23-004898.txt'} because of the error in extracting risk factors.\n",
      "The extraction is failed for {'0001583771-22-000003.txt'} because of the error in extracting risk factors.\n",
      "The extraction is failed for {'0001607062-22-000470.txt'} because of the error in seperating main body.\n",
      "The extraction is failed for {'0001628280-22-008830.txt'} because of the error in seperating main body.\n",
      "The extraction is failed for {'0001628280-23-009583.txt'} because of the error in seperating main body.\n",
      "The extraction is failed for {'0001628280-23-009774.txt'} because of the error in seperating main body.\n",
      "The extraction is failed for {'0001636050-22-000035.txt'} because of the error in seperating main body.\n",
      "The extraction is failed for {'0001640334-23-000532.txt'} because of the error in extracting risk factors.\n",
      "The extraction is failed for {'0001654954-23-003945.txt'} because of the error in extracting risk factors.\n",
      "The extraction is failed for {'0001663577-23-000137.txt'} because of the error in extracting risk factors.\n",
      "The extraction is failed for {'0001679082-22-000071.txt'} because of the error in seperating main body.\n",
      "The extraction is failed for {'0001683168-22-002703.txt'} because of the error in extracting risk factors.\n",
      "The extraction is failed for {'0001683168-22-004704.txt'} because of the error in extracting risk factors.\n",
      "The extraction is failed for {'0001683168-22-004940.txt'} because of the error in extracting risk factors.\n",
      "The extraction is failed for {'0001683168-23-002086.txt'} because of the error in extracting risk factors.\n",
      "The extraction is failed for {'0001753926-23-000352.txt'} because of the error in seperating main body.\n",
      "The extraction is failed for {'0001798749-23-000015.txt'} because of the error in extracting risk factors.\n",
      "The extraction is failed for {'0001829126-23-002497.txt'} because of the error in extracting risk factors.\n",
      "The extraction is failed for {'0001851734-22-000349.txt'} because of the error in extracting risk factors.\n",
      "The extraction is failed for {'0001903596-22-000199.txt'} because of the error in seperating main body.\n"
     ]
    }
   ],
   "source": [
    "for key, value in filePair_dict.items():\n",
    "    fileName = key\n",
    "    fileText = value\n",
    "    mainBody = separate_main_body(fileText) # separate the original text as the table of content and the main body.\n",
    "    \n",
    "    if not mainBody:\n",
    "        print(\"The extraction is failed for\", {fileName}, \"because of the error in seperating main body.\")\n",
    "        continue\n",
    "    \n",
    "    riskText = extract_risk_factors(mainBody, fileName) # extract the risk related text\n",
    "    if not riskText:\n",
    "        print(\"The extraction is failed for\", {fileName}, \"because of the error in extracting risk factors.\")\n",
    "    else:\n",
    "        riskFilePath = \"E:/Jupyter Notebook Files/ISE 540_Text Analytics/Project/Risk Factor Text/Life Sciences Industry/Industry_2834/Raw Text/\" + fileName\n",
    "        with open(riskFilePath, 'w', encoding='utf-8') as file:\n",
    "            file.write(riskText)"
   ]
  },
  {
   "cell_type": "markdown",
   "id": "243a5e11",
   "metadata": {},
   "source": [
    "### 3. Extract the subjects from raw risk factors text"
   ]
  },
  {
   "cell_type": "code",
   "execution_count": 9,
   "id": "116b58f4",
   "metadata": {},
   "outputs": [],
   "source": [
    "from bs4 import BeautifulSoup\n",
    "\n",
    "def extract_subjects(riskFactors, subjectFormat):\n",
    "    soup = BeautifulSoup(riskFactors, 'html.parser')\n",
    "    subject_lst = []\n",
    "    for span in soup.find_all('span'):\n",
    "        style = span.get('style')\n",
    "        if style and subjectFormat in style:\n",
    "            subject_lst.append(span.get_text())\n",
    "    return subject_lst"
   ]
  },
  {
   "cell_type": "code",
   "execution_count": 10,
   "id": "a8c6f751",
   "metadata": {},
   "outputs": [],
   "source": [
    "rawTextFolderPath = \"E:/Jupyter Notebook Files/ISE 540_Text Analytics/Project/Risk Factor Text/Life Sciences Industry/Industry_2834/Raw Text/\"\n",
    "rawTextFileName_lst = os.listdir(rawTextFolderPath)\n",
    "rawTextFilePair_dict = {} # filePair stores the file name and the corresponding file text.\n",
    "for fileName in rawTextFileName_lst:  \n",
    "    # encode each document\n",
    "    filePath = str(rawTextFolderPath) + str(fileName)    \n",
    "    with open(filePath, 'r', encoding='utf-8') as file:\n",
    "        rawText = file.read()\n",
    "    rawTextFilePair_dict[fileName] = rawText"
   ]
  },
  {
   "cell_type": "code",
   "execution_count": 11,
   "id": "1e115c50",
   "metadata": {
    "scrolled": true
   },
   "outputs": [
    {
     "name": "stdout",
     "output_type": "stream",
     "text": [
      "The subject fail to extract for {'0001062993-23-008012.txt'}\n",
      "The subject fail to extract for {'0001140361-23-014526.txt'}\n",
      "The subject fail to extract for {'0001140361-23-014868.txt'}\n",
      "The subject fail to extract for {'0001213900-22-027311.txt'}\n",
      "The subject fail to extract for {'0001213900-23-024260.txt'}\n",
      "The subject fail to extract for {'0001213900-23-024310.txt'}\n",
      "The subject fail to extract for {'0001213900-23-024571.txt'}\n",
      "The subject fail to extract for {'0001213900-23-024710.txt'}\n",
      "The subject fail to extract for {'0001213900-23-024901.txt'}\n",
      "The subject fail to extract for {'0001213900-23-025455.txt'}\n",
      "The subject fail to extract for {'0001213900-23-025554.txt'}\n",
      "The subject fail to extract for {'0001213900-23-025597.txt'}\n",
      "The subject fail to extract for {'0001214659-23-004512.txt'}\n",
      "The subject fail to extract for {'0001410578-22-000947.txt'}\n",
      "The subject fail to extract for {'0001437749-22-022334.txt'}\n",
      "The subject fail to extract for {'0001437749-23-008847.txt'}\n",
      "The subject fail to extract for {'0001472375-22-000055.txt'}\n",
      "The subject fail to extract for {'0001477932-22-001921.txt'}\n",
      "The subject fail to extract for {'0001477932-22-007292.txt'}\n",
      "The subject fail to extract for {'0001477932-23-002112.txt'}\n",
      "The subject fail to extract for {'0001493152-22-010064.txt'}\n",
      "The subject fail to extract for {'0001493152-23-009386.txt'}\n",
      "The subject fail to extract for {'0001493152-23-010129.txt'}\n",
      "The subject fail to extract for {'0001493152-23-010160.txt'}\n",
      "The subject fail to extract for {'0001510964-22-000033.txt'}\n",
      "The subject fail to extract for {'0001510964-23-000016.txt'}\n",
      "The subject fail to extract for {'0001607062-22-000284.txt'}\n",
      "The subject fail to extract for {'0001640334-23-000509.txt'}\n",
      "The subject fail to extract for {'0001654954-22-005014.txt'}\n",
      "The subject fail to extract for {'0001654954-22-012862.txt'}\n"
     ]
    }
   ],
   "source": [
    "subjectFormat_lst = [\"font-weight:700\", \"font-weight:bold\"]\n",
    "for key, value in rawTextFilePair_dict.items():\n",
    "    fileName = key\n",
    "    rawText = value\n",
    "    \n",
    "    i = 0\n",
    "    subject_lst = []\n",
    "    \n",
    "    while not subject_lst:\n",
    "        subjectFormat = subjectFormat_lst[i]\n",
    "        subject_lst = extract_subjects(rawText, subjectFormat)\n",
    "        i += 1\n",
    "        if i >= len(subjectFormat_lst):\n",
    "            break\n",
    "        \n",
    "    if not subject_lst:\n",
    "        print(\"The subject fail to extract for\", {fileName})\n",
    "    else:\n",
    "        subjectFolder = \"E:/Jupyter Notebook Files/ISE 540_Text Analytics/Project/Risk Factor Text/Life Sciences Industry/Industry_2834/Subject/\"\n",
    "        subjectFilePath = subjectFolder + str(fileName)\n",
    "        with open(subjectFilePath, 'w', encoding='utf-8') as file:\n",
    "            for item in subject_lst:\n",
    "                file.write(item + '\\n')"
   ]
  },
  {
   "cell_type": "markdown",
   "id": "34a084bd",
   "metadata": {},
   "source": [
    "---"
   ]
  },
  {
   "cell_type": "markdown",
   "id": "012c298d",
   "metadata": {},
   "source": [
    "## 2.2.2 Industry 2836\n",
    "\n",
    "### 1. Read in the files and store in a dictionary"
   ]
  },
  {
   "cell_type": "code",
   "execution_count": 13,
   "id": "cb765df8",
   "metadata": {},
   "outputs": [],
   "source": [
    "folderPath = \"E:/Jupyter Notebook Files/ISE 540_Text Analytics/Project/Downloaded Financial Reports/Life Sciences Industry/Industry_2836/\"\n",
    "fileName_lst = os.listdir(folderPath)\n",
    "filePair_dict = {} # filePair stores the file name and the corresponding file text.\n",
    "for fileName in fileName_lst:  \n",
    "    # encode each document\n",
    "    filePath = str(folderPath) + str(fileName)    \n",
    "    with open(filePath, 'r', encoding='utf-8') as file:\n",
    "        fileText = file.read()\n",
    "    filePair_dict[fileName] = fileText"
   ]
  },
  {
   "cell_type": "markdown",
   "id": "d4bf0ee7",
   "metadata": {},
   "source": [
    "### 2. Extract the raw risk factor text"
   ]
  },
  {
   "cell_type": "code",
   "execution_count": 14,
   "id": "4d7ba613",
   "metadata": {
    "scrolled": true
   },
   "outputs": [
    {
     "name": "stdout",
     "output_type": "stream",
     "text": [
      "The extraction is failed for {'0000950170-23-002792.txt'} because of the error in extracting risk factors.\n",
      "The extraction is failed for {'0000950170-23-008166.txt'} because of the error in extracting risk factors.\n",
      "The extraction is failed for {'0000950170-23-008517.txt'} because of the error in extracting risk factors.\n",
      "The extraction is failed for {'0000950170-23-008764.txt'} because of the error in seperating main body.\n",
      "The extraction is failed for {'0000950170-23-008835.txt'} because of the error in extracting risk factors.\n",
      "The extraction is failed for {'0000950170-23-009516.txt'} because of the error in extracting risk factors.\n",
      "The extraction is failed for {'0000950170-23-009527.txt'} because of the error in extracting risk factors.\n",
      "The extraction is failed for {'0000950170-23-009551.txt'} because of the error in extracting risk factors.\n",
      "The extraction is failed for {'0000950170-23-010976.txt'} because of the error in extracting risk factors.\n",
      "The extraction is failed for {'0000950170-23-011131.txt'} because of the error in extracting risk factors.\n",
      "The extraction is failed for {'0000950170-23-011360.txt'} because of the error in extracting risk factors.\n",
      "The extraction is failed for {'0001140361-23-013467.txt'} because of the error in extracting risk factors.\n",
      "The extraction is failed for {'0001178913-23-001272.txt'} because of the error in extracting risk factors.\n",
      "The extraction is failed for {'0001193125-22-252231.txt'} because of the error in extracting risk factors.\n",
      "The extraction is failed for {'0001193125-23-088349.txt'} because of the error in seperating main body.\n",
      "The extraction is failed for {'0001213900-23-024952.txt'} because of the error in extracting risk factors.\n",
      "The extraction is failed for {'0001410578-23-000374.txt'} because of the error in seperating main body.\n",
      "The extraction is failed for {'0001437749-23-006688.txt'} because of the error in extracting risk factors.\n",
      "The extraction is failed for {'0001437749-23-007064.txt'} because of the error in extracting risk factors.\n",
      "The extraction is failed for {'0001437749-23-008312.txt'} because of the error in extracting risk factors.\n",
      "The extraction is failed for {'0001437749-23-008425.txt'} because of the error in extracting risk factors.\n",
      "The extraction is failed for {'0001437749-23-008864.txt'} because of the error in seperating main body.\n",
      "The extraction is failed for {'0001477932-22-002272.txt'} because of the error in extracting risk factors.\n",
      "The extraction is failed for {'0001493152-23-008173.txt'} because of the error in extracting risk factors.\n",
      "The extraction is failed for {'0001493152-23-009124.txt'} because of the error in extracting risk factors.\n",
      "The extraction is failed for {'0001493152-23-010223.txt'} because of the error in extracting risk factors.\n",
      "The extraction is failed for {'0001493152-23-010351.txt'} because of the error in seperating main body.\n",
      "The extraction is failed for {'0001558370-22-005217.txt'} because of the error in extracting risk factors.\n",
      "The extraction is failed for {'0001558370-23-003962.txt'} because of the error in seperating main body.\n",
      "The extraction is failed for {'0001558370-23-004014.txt'} because of the error in extracting risk factors.\n",
      "The extraction is failed for {'0001558370-23-004401.txt'} because of the error in seperating main body.\n",
      "The extraction is failed for {'0001558370-23-004948.txt'} because of the error in extracting risk factors.\n",
      "The extraction is failed for {'0001558370-23-005278.txt'} because of the error in extracting risk factors.\n",
      "The extraction is failed for {'0001564590-22-022994.txt'} because of the error in extracting risk factors.\n",
      "The extraction is failed for {'0001564590-23-003798.txt'} because of the error in extracting risk factors.\n",
      "The extraction is failed for {'0001576885-23-000017.txt'} because of the error in seperating main body.\n",
      "The extraction is failed for {'0001628280-22-019309.txt'} because of the error in extracting risk factors.\n",
      "The extraction is failed for {'0001654954-22-005298.txt'} because of the error in seperating main body.\n",
      "The extraction is failed for {'0001683168-23-001850.txt'} because of the error in extracting risk factors.\n",
      "The extraction is failed for {'0001737953-22-000010.txt'} because of the error in extracting risk factors.\n",
      "The extraction is failed for {'0001818382-23-000016.txt'} because of the error in extracting risk factors.\n",
      "The extraction is failed for {'0001829126-23-001524.txt'} because of the error in seperating main body.\n",
      "The extraction is failed for {'0001829126-23-002504.txt'} because of the error in extracting risk factors.\n"
     ]
    }
   ],
   "source": [
    "for key, value in filePair_dict.items():\n",
    "    fileName = key\n",
    "    fileText = value\n",
    "    mainBody = separate_main_body(fileText) # separate the original text as the table of content and the main body.\n",
    "    \n",
    "    if not mainBody:\n",
    "        print(\"The extraction is failed for\", {fileName}, \"because of the error in seperating main body.\")\n",
    "        continue\n",
    "    \n",
    "    riskText = extract_risk_factors(mainBody, fileName) # extract the risk related text\n",
    "    if not riskText:\n",
    "        print(\"The extraction is failed for\", {fileName}, \"because of the error in extracting risk factors.\")\n",
    "    else:\n",
    "        riskFilePath = \"E:/Jupyter Notebook Files/ISE 540_Text Analytics/Project/Risk Factor Text/Life Sciences Industry/Industry_2836/Raw Text/\" + fileName\n",
    "        with open(riskFilePath, 'w', encoding='utf-8') as file:\n",
    "            file.write(riskText)"
   ]
  },
  {
   "cell_type": "markdown",
   "id": "701c2c28",
   "metadata": {},
   "source": [
    "### 3. Extract the subjects from raw risk factors text"
   ]
  },
  {
   "cell_type": "code",
   "execution_count": 15,
   "id": "daeee7db",
   "metadata": {},
   "outputs": [],
   "source": [
    "rawTextFolderPath = \"E:/Jupyter Notebook Files/ISE 540_Text Analytics/Project/Risk Factor Text/Life Sciences Industry/Industry_2836/Raw Text/\"\n",
    "rawTextFileName_lst = os.listdir(rawTextFolderPath)\n",
    "rawTextFilePair_dict = {} # filePair stores the file name and the corresponding file text.\n",
    "for fileName in rawTextFileName_lst:  \n",
    "    # encode each document\n",
    "    filePath = str(rawTextFolderPath) + str(fileName)    \n",
    "    with open(filePath, 'r', encoding='utf-8') as file:\n",
    "        rawText = file.read()\n",
    "    rawTextFilePair_dict[fileName] = rawText"
   ]
  },
  {
   "cell_type": "code",
   "execution_count": 16,
   "id": "8c8ffea8",
   "metadata": {
    "scrolled": true
   },
   "outputs": [
    {
     "name": "stdout",
     "output_type": "stream",
     "text": [
      "The subject fail to extract for {'0001171843-23-001691.txt'}\n",
      "The subject fail to extract for {'0001213900-22-057677.txt'}\n",
      "The subject fail to extract for {'0001213900-23-024122.txt'}\n",
      "The subject fail to extract for {'0001213900-23-024687.txt'}\n",
      "The subject fail to extract for {'0001213900-23-024935.txt'}\n",
      "The subject fail to extract for {'0001477932-23-002090.txt'}\n",
      "The subject fail to extract for {'0001477932-23-002123.txt'}\n",
      "The subject fail to extract for {'0001654954-23-003905.txt'}\n",
      "The subject fail to extract for {'0001683168-22-005189.txt'}\n"
     ]
    }
   ],
   "source": [
    "subjectFormat_lst = [\"font-weight:700\", \"font-weight:bold\"]\n",
    "for key, value in rawTextFilePair_dict.items():\n",
    "    fileName = key\n",
    "    rawText = value\n",
    "    \n",
    "    i = 0\n",
    "    subject_lst = []\n",
    "    \n",
    "    while not subject_lst:\n",
    "        subjectFormat = subjectFormat_lst[i]\n",
    "        subject_lst = extract_subjects(rawText, subjectFormat)\n",
    "        i += 1\n",
    "        if i >= len(subjectFormat_lst):\n",
    "            break\n",
    "        \n",
    "    if not subject_lst:\n",
    "        print(\"The subject fail to extract for\", {fileName})\n",
    "    else:\n",
    "        subjectFolder = \"E:/Jupyter Notebook Files/ISE 540_Text Analytics/Project/Risk Factor Text/Life Sciences Industry/Industry_2836/Subject/\"\n",
    "        subjectFilePath = subjectFolder + str(fileName)\n",
    "        with open(subjectFilePath, 'w', encoding='utf-8') as file:\n",
    "            for item in subject_lst:\n",
    "                file.write(item + '\\n')"
   ]
  },
  {
   "cell_type": "code",
   "execution_count": null,
   "id": "180cd19b",
   "metadata": {},
   "outputs": [],
   "source": []
  }
 ],
 "metadata": {
  "kernelspec": {
   "display_name": "Python 3 (ipykernel)",
   "language": "python",
   "name": "python3"
  },
  "language_info": {
   "codemirror_mode": {
    "name": "ipython",
    "version": 3
   },
   "file_extension": ".py",
   "mimetype": "text/x-python",
   "name": "python",
   "nbconvert_exporter": "python",
   "pygments_lexer": "ipython3",
   "version": "3.11.5"
  }
 },
 "nbformat": 4,
 "nbformat_minor": 5
}
