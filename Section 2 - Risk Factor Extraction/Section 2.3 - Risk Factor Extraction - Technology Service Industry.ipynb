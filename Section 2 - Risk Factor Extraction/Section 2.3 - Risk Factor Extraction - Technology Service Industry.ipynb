{
 "cells": [
  {
   "cell_type": "markdown",
   "id": "209b9203",
   "metadata": {},
   "source": [
    "# Section 2 Risk Factor Extraction\n",
    "\n",
    "In section 1, we have downloaded the fincancial reports from 2019Q1 to 2023Q3. In this section, we are going to extract the risk factor text from each of these files. According to the requirement of the 10-K form given by SEC (https://www.sec.gov/files/form10-k.pdf), there is an section named \"Item 1A. Risk Factors\" included in the form  which shows the potential risks faced by the company. Therefore, it is important for us to filter and cleanse the text from this part so that we can use it for further analysis."
   ]
  },
  {
   "cell_type": "code",
   "execution_count": 1,
   "id": "66732524",
   "metadata": {},
   "outputs": [],
   "source": [
    "import pandas as pd\n",
    "import numpy as np\n",
    "import requests\n",
    "import os\n",
    "import re\n",
    "import html\n",
    "import warnings\n",
    "warnings.filterwarnings(\"ignore\")"
   ]
  },
  {
   "cell_type": "markdown",
   "id": "e4583031",
   "metadata": {},
   "source": [
    "# 2.3 Technology Service Industry (7370, 7372, 7374)\n",
    "\n",
    "In this section, we only focus on companies in Technology Service Industry."
   ]
  },
  {
   "cell_type": "markdown",
   "id": "f5597c74",
   "metadata": {},
   "source": [
    "## 2.3.1 Industry 7370\n",
    "\n",
    "### 1. Read in the files and store in a dictionary"
   ]
  },
  {
   "cell_type": "code",
   "execution_count": 2,
   "id": "7d0f61a1",
   "metadata": {},
   "outputs": [],
   "source": [
    "folderPath = \"E:/Jupyter Notebook Files/ISE 540_Text Analytics/Project/Downloaded Financial Reports/Technology Service Industry/Industry_7370/\"\n",
    "fileName_lst = os.listdir(folderPath)\n",
    "filePair_dict = {} # filePair stores the file name and the corresponding file text.\n",
    "for fileName in fileName_lst:  \n",
    "    # encode each document\n",
    "    filePath = str(folderPath) + str(fileName)    \n",
    "    with open(filePath, 'r', encoding='utf-8') as file:\n",
    "        fileText = file.read()\n",
    "    filePair_dict[fileName] = fileText"
   ]
  },
  {
   "cell_type": "code",
   "execution_count": 3,
   "id": "11835912",
   "metadata": {
    "scrolled": true
   },
   "outputs": [
    {
     "data": {
      "text/plain": [
       "dict_keys(['0000746210-23-000011.txt', '0000891103-23-000013.txt', '0000950170-23-003200.txt', '0000950170-23-003212.txt', '0000950170-23-004649.txt', '0000950170-23-005080.txt', '0000950170-23-005868.txt', '0000950170-23-008474.txt', '0001096906-22-000930.txt', '0001096906-23-000237.txt', '0001140361-23-011303.txt', '0001171843-22-002601.txt', '0001213900-22-017545.txt', '0001213900-22-019613.txt', '0001213900-22-020136.txt', '0001213900-23-023973.txt', '0001213900-23-024638.txt', '0001326801-23-000013.txt', '0001327318-23-000006.txt', '0001410578-22-001567.txt', '0001422930-23-000008.txt', '0001437749-23-004908.txt', '0001437749-23-005106.txt', '0001454938-23-000029.txt', '0001475115-23-000040.txt', '0001493152-22-008815.txt', '0001493152-22-009607.txt', '0001493152-22-010132.txt', '0001493152-23-010178.txt', '0001506293-23-000023.txt', '0001553350-22-000730.txt', '0001558370-23-002596.txt', '0001558891-23-000023.txt', '0001564408-23-000013.txt', '0001575872-23-000447.txt', '0001582961-23-000009.txt', '0001585521-22-000037.txt', '0001595974-23-000010.txt', '0001597033-23-000011.txt', '0001617553-23-000007.txt', '0001628280-22-023816.txt', '0001636422-23-000033.txt', '0001640334-23-000500.txt', '0001652044-23-000016.txt', '0001663577-23-000131.txt', '0001666071-23-000032.txt', '0001671933-23-000007.txt', '0001683168-22-002738.txt', '0001683168-22-005073.txt', '0001751008-23-000006.txt', '0001753391-22-000019.txt', '0001758699-23-000004.txt', '0001765048-23-000003.txt', '0001794905-23-000010.txt', '0001800227-23-000009.txt', '0001810019-23-000034.txt', '0001820144-23-000005.txt', '0001828791-23-000012.txt', '0001829126-23-002018.txt', '0001837686-23-000006.txt', '0001842718-23-000005.txt', '0001846069-23-000010.txt', '0001855747-23-000016.txt'])"
      ]
     },
     "execution_count": 3,
     "metadata": {},
     "output_type": "execute_result"
    }
   ],
   "source": [
    "filePair_dict.keys()"
   ]
  },
  {
   "cell_type": "markdown",
   "id": "430007e8",
   "metadata": {},
   "source": [
    "### 2. Extract the raw risk factor text"
   ]
  },
  {
   "cell_type": "code",
   "execution_count": 4,
   "id": "3f5e35d1",
   "metadata": {},
   "outputs": [],
   "source": [
    "def remove_tags(text):\n",
    "    # replace the tag included by <> to a \\ \n",
    "    pattern1 = r'<[^>]*>'\n",
    "    cleanText = re.sub(pattern1, \"|\", text)\n",
    "    \n",
    "    # replace the multiple continued \\ to a single \\\n",
    "    cleanText = re.sub(r'\\s*\\|+\\s*', '|', cleanText)\n",
    "    cleanText = re.sub(r'\\|+', '|', cleanText)\n",
    "    \n",
    "    # replace the unicode\n",
    "    cleanText = html.unescape(cleanText)\n",
    "    \n",
    "    # remove the line break\n",
    "    cleanText = cleanText.replace('\\n', '')\n",
    "    # remove the pure numbers text between \\\n",
    "    cleanText = re.sub(r'\\|(\\d+)\\|', '|', cleanText)\n",
    "    # remove the unrecognized string\n",
    "    cleanText = re.sub(r'|\\xa0\\|', '', cleanText)\n",
    "    cleanText = re.sub(r'|\\xa0|', '', cleanText)\n",
    "    return cleanText"
   ]
  },
  {
   "cell_type": "code",
   "execution_count": 5,
   "id": "d16e20d9",
   "metadata": {},
   "outputs": [],
   "source": [
    "def separate_main_body(text):\n",
    "    lastContentInTC_lst = [\">form 10-k summary<\", \">item 16. form 10-k summary<\", r\">exhibits, financial statement schedules<\", \n",
    "                           r\">exhibits and financial statement schedules<\", r\"exhibits and financial statement schedules <\",\n",
    "                           \">exhibits<\"]\n",
    "    start_idx = -1\n",
    "    for content in lastContentInTC_lst:\n",
    "        if content in text.lower():\n",
    "            start_idx = text.lower().find(content)\n",
    "            break\n",
    "            \n",
    "    if start_idx == -1:\n",
    "        return False\n",
    "    \n",
    "    mainBody = text[start_idx:]\n",
    "    mainBody = html.unescape(mainBody)\n",
    "    return mainBody"
   ]
  },
  {
   "cell_type": "code",
   "execution_count": 6,
   "id": "cfc79098",
   "metadata": {},
   "outputs": [],
   "source": [
    "def extract_risk_factors(mainBody, fileName):\n",
    "    # match the risk factor\n",
    "    keywordMatch = re.findall(r\">item 1a.\\s+risk factors\\.?\\<\", mainBody.lower())\n",
    "    \n",
    "    # if fail to match the pattern, the pattern might be segmented be some html tags, so re-match\n",
    "    if not keywordMatch:\n",
    "        keyword = seperated_keyword_rematch(mainBody)\n",
    "        \n",
    "    # if match the pattern successfully, just keep the keyword of risk factor\n",
    "    else:\n",
    "        keyword = keywordMatch[0]\n",
    "    \n",
    "    # check if match successfully\n",
    "    if not keyword:\n",
    "        return False\n",
    "    keywordCheck_lst = [\"item\", r\"item 1a\\.?\", \"risk\", \"factors\", \"risk factors\"]\n",
    "    if keyword in keywordCheck_lst:\n",
    "        print(\"Warning: It is better to check whether the extraction is correct manually for file\", {fileName})\n",
    "    \n",
    "    # match the next section of the risk factor\n",
    "    nextSectionPattern_lst = [r\">item 1b.\\s+unresolved staff comments\\.?\\<\", r\">item 2.\\s+description of property\\.?\\<\"]\n",
    "    for pattern in nextSectionPattern_lst:\n",
    "        nextSectionMatch = re.findall(pattern, mainBody.lower())\n",
    "        \n",
    "        # if fail to match the pattern, the pattern might be segmented be some html tags, so re-match\n",
    "        if not nextSectionMatch:\n",
    "            nextSection = seperated_next_section_rematch(mainBody, pattern)\n",
    "            # if re-match successfully, jump out of the loop\n",
    "            if nextSection:\n",
    "                break\n",
    "        \n",
    "        # if match the pattern successfully, just keep the next section keyword and jump out of the loop\n",
    "        else:\n",
    "            nextSection = nextSectionMatch[0]\n",
    "            break\n",
    "    \n",
    "    # check if match successfully\n",
    "    if not nextSection:\n",
    "        return False\n",
    "    \n",
    "    # if match successfully, extract the risk factor\n",
    "    start_idx = mainBody.lower().find(keyword) # start index is the position of the keyword occured in the main body\n",
    "    end_idx = mainBody.lower().find(nextSection) # end index is the position of the next section begin in the main body\n",
    "    riskFactors = mainBody[start_idx: end_idx]\n",
    "    return riskFactors"
   ]
  },
  {
   "cell_type": "code",
   "execution_count": 7,
   "id": "b8609aed",
   "metadata": {},
   "outputs": [],
   "source": [
    "def seperated_keyword_rematch(mainBody):\n",
    "    cleanedMainBody = remove_tags(mainBody)\n",
    "    keywordMatch = re.findall(r\"i\\|?t\\|?e\\|?m\\|?\\s+\\|?1\\|?a\\|?.\\|?\\s+\\|?r\\|?i\\|?s\\|?k\\|?\\s+\\|?f\\|?a\\|?c\\|?t\\|?o\\|?r\\|?s\\.?\", cleanedMainBody.lower())\n",
    "    \n",
    "    # check if re-match the keyword of risk factor successfully\n",
    "    if not keywordMatch:\n",
    "        return False\n",
    "    \n",
    "    # if re-match successfully, use the longer segmentation as the keyword of the risk factor\n",
    "    reMatchedKeyword = max(keywordMatch[0].split('|'), key=len)\n",
    "    return reMatchedKeyword\n",
    "    \n",
    "def seperated_next_section_rematch(mainBody, nextSectionPattern):\n",
    "    # cleanse the main body text\n",
    "    cleanedMainBody = remove_tags(mainBody)\n",
    "    \n",
    "    # edit the pattern \n",
    "    edittedPattern = nextSectionPattern.replace(r\">\", \"\").replace(r\"\\s+\", \" \").replace(r\"\\.?\\<\", \"\")\n",
    "    edittedPattern = \"\\|?\".join(edittedPattern)\n",
    "    edittedPattern = r\"{}\\.?\".format(edittedPattern)\n",
    "    pattern = edittedPattern.replace(\" \", \"\\s?+\")\n",
    "    nextSectionMatch = re.findall(pattern, cleanedMainBody.lower())\n",
    "    \n",
    "    # check if re-match the keyword of next section successfully\n",
    "    if not nextSectionMatch:\n",
    "        return False\n",
    "    \n",
    "    # if re-match successfully, use the longer segmentation as the keyword of the next section \n",
    "    reMatchedNextSection = max(nextSectionMatch[0].split('|'), key=len)\n",
    "    return reMatchedNextSection"
   ]
  },
  {
   "cell_type": "code",
   "execution_count": 8,
   "id": "72c7e086",
   "metadata": {
    "scrolled": true
   },
   "outputs": [
    {
     "name": "stdout",
     "output_type": "stream",
     "text": [
      "The extraction is failed for {'0001140361-23-011303.txt'} because of the error in extracting risk factors.\n",
      "The extraction is failed for {'0001213900-22-017545.txt'} because of the error in seperating main body.\n",
      "The extraction is failed for {'0001213900-22-019613.txt'} because of the error in extracting risk factors.\n",
      "The extraction is failed for {'0001213900-23-023973.txt'} because of the error in seperating main body.\n",
      "The extraction is failed for {'0001213900-23-024638.txt'} because of the error in extracting risk factors.\n",
      "The extraction is failed for {'0001326801-23-000013.txt'} because of the error in extracting risk factors.\n",
      "The extraction is failed for {'0001327318-23-000006.txt'} because of the error in extracting risk factors.\n",
      "The extraction is failed for {'0001410578-22-001567.txt'} because of the error in extracting risk factors.\n",
      "The extraction is failed for {'0001493152-22-008815.txt'} because of the error in extracting risk factors.\n",
      "The extraction is failed for {'0001493152-22-009607.txt'} because of the error in seperating main body.\n",
      "The extraction is failed for {'0001493152-23-010178.txt'} because of the error in seperating main body.\n",
      "The extraction is failed for {'0001506293-23-000023.txt'} because of the error in extracting risk factors.\n",
      "The extraction is failed for {'0001575872-23-000447.txt'} because of the error in extracting risk factors.\n",
      "The extraction is failed for {'0001652044-23-000016.txt'} because of the error in extracting risk factors.\n",
      "The extraction is failed for {'0001663577-23-000131.txt'} because of the error in extracting risk factors.\n",
      "The extraction is failed for {'0001683168-22-002738.txt'} because of the error in extracting risk factors.\n",
      "The extraction is failed for {'0001683168-22-005073.txt'} because of the error in extracting risk factors.\n",
      "The extraction is failed for {'0001751008-23-000006.txt'} because of the error in extracting risk factors.\n",
      "The extraction is failed for {'0001753391-22-000019.txt'} because of the error in seperating main body.\n",
      "The extraction is failed for {'0001800227-23-000009.txt'} because of the error in extracting risk factors.\n",
      "The extraction is failed for {'0001810019-23-000034.txt'} because of the error in extracting risk factors.\n",
      "The extraction is failed for {'0001829126-23-002018.txt'} because of the error in extracting risk factors.\n"
     ]
    }
   ],
   "source": [
    "for key, value in filePair_dict.items():\n",
    "    fileName = key\n",
    "    fileText = value\n",
    "    mainBody = separate_main_body(fileText) # separate the original text as the table of content and the main body.\n",
    "    \n",
    "    if not mainBody:\n",
    "        print(\"The extraction is failed for\", {fileName}, \"because of the error in seperating main body.\")\n",
    "        continue\n",
    "    \n",
    "    riskText = extract_risk_factors(mainBody, fileName) # extract the risk related text\n",
    "    if not riskText:\n",
    "        print(\"The extraction is failed for\", {fileName}, \"because of the error in extracting risk factors.\")\n",
    "    else:\n",
    "        riskFilePath = \"E:/Jupyter Notebook Files/ISE 540_Text Analytics/Project/Risk Factor Text/Technology Service Industry/Industry_7370/Raw Text/\" + fileName\n",
    "        with open(riskFilePath, 'w', encoding='utf-8') as file:\n",
    "            file.write(riskText)"
   ]
  },
  {
   "cell_type": "markdown",
   "id": "243a5e11",
   "metadata": {},
   "source": [
    "### 3. Extract the subjects from raw risk factors text"
   ]
  },
  {
   "cell_type": "code",
   "execution_count": 10,
   "id": "116b58f4",
   "metadata": {},
   "outputs": [],
   "source": [
    "from bs4 import BeautifulSoup\n",
    "\n",
    "def extract_subjects(riskFactors, subjectFormat):\n",
    "    soup = BeautifulSoup(riskFactors, 'html.parser')\n",
    "    subject_lst = []\n",
    "    for span in soup.find_all('span'):\n",
    "        style = span.get('style')\n",
    "        if style and subjectFormat in style:\n",
    "            subject_lst.append(span.get_text())\n",
    "    return subject_lst"
   ]
  },
  {
   "cell_type": "code",
   "execution_count": 11,
   "id": "a8c6f751",
   "metadata": {},
   "outputs": [],
   "source": [
    "rawTextFolderPath = \"E:/Jupyter Notebook Files/ISE 540_Text Analytics/Project/Risk Factor Text/Technology Service Industry/Industry_7370/Raw Text/\"\n",
    "rawTextFileName_lst = os.listdir(rawTextFolderPath)\n",
    "rawTextFilePair_dict = {} # filePair stores the file name and the corresponding file text.\n",
    "for fileName in rawTextFileName_lst:  \n",
    "    # encode each document\n",
    "    filePath = str(rawTextFolderPath) + str(fileName)    \n",
    "    with open(filePath, 'r', encoding='utf-8') as file:\n",
    "        rawText = file.read()\n",
    "    rawTextFilePair_dict[fileName] = rawText"
   ]
  },
  {
   "cell_type": "code",
   "execution_count": 12,
   "id": "1e115c50",
   "metadata": {
    "scrolled": false
   },
   "outputs": [
    {
     "name": "stdout",
     "output_type": "stream",
     "text": [
      "The subject fail to extract for {'0001096906-22-000930.txt'}\n",
      "The subject fail to extract for {'0001096906-23-000237.txt'}\n",
      "The subject fail to extract for {'0001171843-22-002601.txt'}\n",
      "The subject fail to extract for {'0001213900-22-020136.txt'}\n",
      "The subject fail to extract for {'0001437749-23-004908.txt'}\n",
      "The subject fail to extract for {'0001437749-23-005106.txt'}\n",
      "The subject fail to extract for {'0001493152-22-010132.txt'}\n",
      "The subject fail to extract for {'0001553350-22-000730.txt'}\n",
      "The subject fail to extract for {'0001558891-23-000023.txt'}\n",
      "The subject fail to extract for {'0001640334-23-000500.txt'}\n",
      "The subject fail to extract for {'0001758699-23-000004.txt'}\n",
      "The subject fail to extract for {'0001765048-23-000003.txt'}\n"
     ]
    }
   ],
   "source": [
    "subjectFormat_lst = [\"font-weight:700\", \"font-weight:bold\"]\n",
    "for key, value in rawTextFilePair_dict.items():\n",
    "    fileName = key\n",
    "    rawText = value\n",
    "    \n",
    "    i = 0\n",
    "    subject_lst = []\n",
    "    \n",
    "    while not subject_lst:\n",
    "        subjectFormat = subjectFormat_lst[i]\n",
    "        subject_lst = extract_subjects(rawText, subjectFormat)\n",
    "        i += 1\n",
    "        if i >= len(subjectFormat_lst):\n",
    "            break\n",
    "        \n",
    "    if not subject_lst:\n",
    "        print(\"The subject fail to extract for\", {fileName})\n",
    "    else:\n",
    "        subjectFolder = \"E:/Jupyter Notebook Files/ISE 540_Text Analytics/Project/Risk Factor Text/Technology Service Industry/Industry_7370/Subject/\"\n",
    "        subjectFilePath = subjectFolder + str(fileName)\n",
    "        with open(subjectFilePath, 'w', encoding='utf-8') as file:\n",
    "            for item in subject_lst:\n",
    "                file.write(item + '\\n')"
   ]
  },
  {
   "cell_type": "markdown",
   "id": "34a084bd",
   "metadata": {},
   "source": [
    "---"
   ]
  },
  {
   "cell_type": "markdown",
   "id": "53f04337",
   "metadata": {},
   "source": [
    "## 2.3.2 Industry 7372\n",
    "\n",
    "### 1. Read in the files and store in a dictionary"
   ]
  },
  {
   "cell_type": "code",
   "execution_count": 13,
   "id": "cb765df8",
   "metadata": {},
   "outputs": [],
   "source": [
    "folderPath = \"E:/Jupyter Notebook Files/ISE 540_Text Analytics/Project/Downloaded Financial Reports/Technology Service Industry/Industry_7372/\"\n",
    "fileName_lst = os.listdir(folderPath)\n",
    "filePair_dict = {} # filePair stores the file name and the corresponding file text.\n",
    "for fileName in fileName_lst:  \n",
    "    # encode each document\n",
    "    filePath = str(folderPath) + str(fileName)    \n",
    "    with open(filePath, 'r', encoding='utf-8') as file:\n",
    "        fileText = file.read()\n",
    "    filePair_dict[fileName] = fileText"
   ]
  },
  {
   "cell_type": "markdown",
   "id": "55e5e2cd",
   "metadata": {},
   "source": [
    "### 2. Extract the raw risk factor text"
   ]
  },
  {
   "cell_type": "code",
   "execution_count": 14,
   "id": "4d7ba613",
   "metadata": {
    "scrolled": true
   },
   "outputs": [
    {
     "name": "stdout",
     "output_type": "stream",
     "text": [
      "The extraction is failed for {'0000712515-22-000011.txt'} because of the error in extracting risk factors.\n",
      "The extraction is failed for {'0000896841-23-000019.txt'} because of the error in extracting risk factors.\n",
      "The extraction is failed for {'0000896878-22-000028.txt'} because of the error in extracting risk factors.\n",
      "The extraction is failed for {'0000910638-23-000009.txt'} because of the error in extracting risk factors.\n",
      "The extraction is failed for {'0000935036-23-000009.txt'} because of the error in extracting risk factors.\n",
      "The extraction is failed for {'0000950170-22-018351.txt'} because of the error in extracting risk factors.\n",
      "The extraction is failed for {'0000950170-23-003943.txt'} because of the error in extracting risk factors.\n",
      "The extraction is failed for {'0000950170-23-004143.txt'} because of the error in extracting risk factors.\n",
      "The extraction is failed for {'0000950170-23-005490.txt'} because of the error in seperating main body.\n",
      "The extraction is failed for {'0000950170-23-007888.txt'} because of the error in extracting risk factors.\n",
      "The extraction is failed for {'0000950170-23-008185.txt'} because of the error in seperating main body.\n",
      "The extraction is failed for {'0001017386-22-000208.txt'} because of the error in extracting risk factors.\n",
      "The extraction is failed for {'0001169561-22-000018.txt'} because of the error in extracting risk factors.\n",
      "The extraction is failed for {'0001193125-23-088014.txt'} because of the error in seperating main body.\n",
      "The extraction is failed for {'0001213900-22-017432.txt'} because of the error in extracting risk factors.\n",
      "The extraction is failed for {'0001213900-22-055586.txt'} because of the error in extracting risk factors.\n",
      "The extraction is failed for {'0001213900-23-024218.txt'} because of the error in seperating main body.\n",
      "The extraction is failed for {'0001213900-23-025193.txt'} because of the error in extracting risk factors.\n",
      "The extraction is failed for {'0001213900-23-025411.txt'} because of the error in seperating main body.\n",
      "The extraction is failed for {'0001214659-23-004597.txt'} because of the error in extracting risk factors.\n",
      "The extraction is failed for {'0001261333-22-000049.txt'} because of the error in extracting risk factors.\n",
      "The extraction is failed for {'0001264931-23-000006.txt'} because of the error in seperating main body.\n",
      "The extraction is failed for {'0001393052-22-000017.txt'} because of the error in extracting risk factors.\n",
      "The extraction is failed for {'0001410578-22-000838.txt'} because of the error in extracting risk factors.\n",
      "The extraction is failed for {'0001410578-23-000236.txt'} because of the error in extracting risk factors.\n",
      "The extraction is failed for {'0001410578-23-000307.txt'} because of the error in extracting risk factors.\n",
      "The extraction is failed for {'0001410578-23-000453.txt'} because of the error in extracting risk factors.\n",
      "The extraction is failed for {'0001423774-22-000067.txt'} because of the error in extracting risk factors.\n",
      "The extraction is failed for {'0001425203-22-000008.txt'} because of the error in seperating main body.\n",
      "The extraction is failed for {'0001432133-23-000035.txt'} because of the error in extracting risk factors.\n",
      "The extraction is failed for {'0001437749-22-008763.txt'} because of the error in extracting risk factors.\n",
      "The extraction is failed for {'0001437749-22-008996.txt'} because of the error in extracting risk factors.\n",
      "The extraction is failed for {'0001437749-22-009043.txt'} because of the error in seperating main body.\n",
      "The extraction is failed for {'0001437749-23-004384.txt'} because of the error in extracting risk factors.\n",
      "The extraction is failed for {'0001437749-23-005161.txt'} because of the error in extracting risk factors.\n",
      "The extraction is failed for {'0001437749-23-008798.txt'} because of the error in seperating main body.\n",
      "The extraction is failed for {'0001437749-23-008808.txt'} because of the error in extracting risk factors.\n",
      "The extraction is failed for {'0001447669-23-000049.txt'} because of the error in seperating main body.\n",
      "The extraction is failed for {'0001467623-23-000012.txt'} because of the error in extracting risk factors.\n",
      "The extraction is failed for {'0001477720-22-000012.txt'} because of the error in extracting risk factors.\n",
      "The extraction is failed for {'0001477932-22-002455.txt'} because of the error in seperating main body.\n",
      "The extraction is failed for {'0001477932-22-003122.txt'} because of the error in extracting risk factors.\n",
      "The extraction is failed for {'0001477932-23-001672.txt'} because of the error in extracting risk factors.\n",
      "The extraction is failed for {'0001477932-23-002129.txt'} because of the error in extracting risk factors.\n",
      "The extraction is failed for {'0001493152-22-009921.txt'} because of the error in extracting risk factors.\n",
      "The extraction is failed for {'0001493152-22-010031.txt'} because of the error in seperating main body.\n",
      "The extraction is failed for {'0001493152-22-019073.txt'} because of the error in seperating main body.\n",
      "The extraction is failed for {'0001493152-22-019346.txt'} because of the error in extracting risk factors.\n",
      "The extraction is failed for {'0001493152-22-026160.txt'} because of the error in extracting risk factors.\n",
      "The extraction is failed for {'0001493152-22-026889.txt'} because of the error in extracting risk factors.\n",
      "The extraction is failed for {'0001493152-23-005851.txt'} because of the error in extracting risk factors.\n",
      "The extraction is failed for {'0001493152-23-005934.txt'} because of the error in seperating main body.\n",
      "The extraction is failed for {'0001493152-23-006580.txt'} because of the error in seperating main body.\n",
      "The extraction is failed for {'0001493152-23-007974.txt'} because of the error in extracting risk factors.\n",
      "The extraction is failed for {'0001493152-23-008765.txt'} because of the error in seperating main body.\n",
      "The extraction is failed for {'0001493152-23-008878.txt'} because of the error in extracting risk factors.\n",
      "The extraction is failed for {'0001493152-23-009074.txt'} because of the error in extracting risk factors.\n",
      "The extraction is failed for {'0001493152-23-009418.txt'} because of the error in extracting risk factors.\n",
      "The extraction is failed for {'0001493152-23-009940.txt'} because of the error in seperating main body.\n",
      "The extraction is failed for {'0001493152-23-010283.txt'} because of the error in extracting risk factors.\n",
      "The extraction is failed for {'0001528396-22-000106.txt'} because of the error in extracting risk factors.\n",
      "The extraction is failed for {'0001529274-23-000037.txt'} because of the error in seperating main body.\n",
      "The extraction is failed for {'0001535527-22-000006.txt'} because of the error in extracting risk factors.\n",
      "The extraction is failed for {'0001552781-22-000463.txt'} because of the error in extracting risk factors.\n",
      "The extraction is failed for {'0001553350-22-000798.txt'} because of the error in extracting risk factors.\n",
      "The extraction is failed for {'0001554795-22-000255.txt'} because of the error in extracting risk factors.\n",
      "The extraction is failed for {'0001558370-22-005527.txt'} because of the error in extracting risk factors.\n",
      "The extraction is failed for {'0001558370-22-014362.txt'} because of the error in extracting risk factors.\n",
      "The extraction is failed for {'0001558370-23-002252.txt'} because of the error in extracting risk factors.\n",
      "The extraction is failed for {'0001558370-23-002586.txt'} because of the error in extracting risk factors.\n",
      "The extraction is failed for {'0001558370-23-002605.txt'} because of the error in extracting risk factors.\n",
      "The extraction is failed for {'0001558370-23-003450.txt'} because of the error in seperating main body.\n",
      "The extraction is failed for {'0001558370-23-003469.txt'} because of the error in extracting risk factors.\n",
      "The extraction is failed for {'0001560327-23-000016.txt'} because of the error in extracting risk factors.\n",
      "The extraction is failed for {'0001562088-23-000052.txt'} because of the error in extracting risk factors.\n",
      "The extraction is failed for {'0001564590-22-014010.txt'} because of the error in extracting risk factors.\n",
      "The extraction is failed for {'0001564590-22-023675.txt'} because of the error in extracting risk factors.\n",
      "The extraction is failed for {'0001564590-22-026876.txt'} because of the error in extracting risk factors.\n"
     ]
    },
    {
     "name": "stdout",
     "output_type": "stream",
     "text": [
      "The extraction is failed for {'0001591698-22-000094.txt'} because of the error in extracting risk factors.\n",
      "The extraction is failed for {'0001628280-22-018227.txt'} because of the error in extracting risk factors.\n",
      "The extraction is failed for {'0001628280-23-004842.txt'} because of the error in seperating main body.\n",
      "The extraction is failed for {'0001640147-22-000023.txt'} because of the error in extracting risk factors.\n",
      "The extraction is failed for {'0001640334-22-000876.txt'} because of the error in extracting risk factors.\n",
      "The extraction is failed for {'0001683168-22-002671.txt'} because of the error in extracting risk factors.\n",
      "The extraction is failed for {'0001683168-22-002694.txt'} because of the error in seperating main body.\n",
      "The extraction is failed for {'0001683168-22-002719.txt'} because of the error in extracting risk factors.\n",
      "The extraction is failed for {'0001683168-22-002722.txt'} because of the error in extracting risk factors.\n",
      "The extraction is failed for {'0001710495-22-000004.txt'} because of the error in extracting risk factors.\n",
      "The extraction is failed for {'0001779474-23-000023.txt'} because of the error in seperating main body.\n",
      "The extraction is failed for {'0001829126-22-014453.txt'} because of the error in extracting risk factors.\n",
      "The extraction is failed for {'0001829126-23-002008.txt'} because of the error in extracting risk factors.\n",
      "The extraction is failed for {'0001829126-23-002201.txt'} because of the error in extracting risk factors.\n",
      "The extraction is failed for {'0001829126-23-002515.txt'} because of the error in extracting risk factors.\n",
      "The extraction is failed for {'0001840856-23-000019.txt'} because of the error in extracting risk factors.\n"
     ]
    }
   ],
   "source": [
    "for key, value in filePair_dict.items():\n",
    "    fileName = key\n",
    "    fileText = value\n",
    "    mainBody = separate_main_body(fileText) # separate the original text as the table of content and the main body.\n",
    "    \n",
    "    if not mainBody:\n",
    "        print(\"The extraction is failed for\", {fileName}, \"because of the error in seperating main body.\")\n",
    "        continue\n",
    "    \n",
    "    riskText = extract_risk_factors(mainBody, fileName) # extract the risk related text\n",
    "    if not riskText:\n",
    "        print(\"The extraction is failed for\", {fileName}, \"because of the error in extracting risk factors.\")\n",
    "    else:\n",
    "        riskFilePath = \"E:/Jupyter Notebook Files/ISE 540_Text Analytics/Project/Risk Factor Text/Technology Service Industry/Industry_7372/Raw Text/\" + fileName\n",
    "        with open(riskFilePath, 'w', encoding='utf-8') as file:\n",
    "            file.write(riskText)"
   ]
  },
  {
   "cell_type": "markdown",
   "id": "3b6ff63b",
   "metadata": {},
   "source": [
    "### 3. Extract the subjects from raw risk factors text"
   ]
  },
  {
   "cell_type": "code",
   "execution_count": 15,
   "id": "daeee7db",
   "metadata": {},
   "outputs": [],
   "source": [
    "rawTextFolderPath = \"E:/Jupyter Notebook Files/ISE 540_Text Analytics/Project/Risk Factor Text/Technology Service Industry/Industry_7372/Raw Text/\"\n",
    "rawTextFileName_lst = os.listdir(rawTextFolderPath)\n",
    "rawTextFilePair_dict = {} # filePair stores the file name and the corresponding file text.\n",
    "for fileName in rawTextFileName_lst:  \n",
    "    # encode each document\n",
    "    filePath = str(rawTextFolderPath) + str(fileName)    \n",
    "    with open(filePath, 'r', encoding='utf-8') as file:\n",
    "        rawText = file.read()\n",
    "    rawTextFilePair_dict[fileName] = rawText"
   ]
  },
  {
   "cell_type": "code",
   "execution_count": 16,
   "id": "8c8ffea8",
   "metadata": {},
   "outputs": [
    {
     "name": "stdout",
     "output_type": "stream",
     "text": [
      "The subject fail to extract for {'0001017386-22-000150.txt'}\n",
      "The subject fail to extract for {'0001213900-22-017159.txt'}\n",
      "The subject fail to extract for {'0001213900-22-020167.txt'}\n",
      "The subject fail to extract for {'0001213900-22-059573.txt'}\n",
      "The subject fail to extract for {'0001213900-22-059740.txt'}\n",
      "The subject fail to extract for {'0001213900-23-024677.txt'}\n",
      "The subject fail to extract for {'0001213900-23-025215.txt'}\n",
      "The subject fail to extract for {'0001213900-23-025417.txt'}\n",
      "The subject fail to extract for {'0001477932-22-002284.txt'}\n",
      "The subject fail to extract for {'0001493152-22-009403.txt'}\n",
      "The subject fail to extract for {'0001493152-23-008554.txt'}\n",
      "The subject fail to extract for {'0001520138-22-000237.txt'}\n",
      "The subject fail to extract for {'0001553350-23-000241.txt'}\n",
      "The subject fail to extract for {'0001640334-22-001828.txt'}\n",
      "The subject fail to extract for {'0001640334-23-000444.txt'}\n",
      "The subject fail to extract for {'0001683168-22-002295.txt'}\n",
      "The subject fail to extract for {'0001903596-23-000201.txt'}\n"
     ]
    }
   ],
   "source": [
    "subjectFormat_lst = [\"font-weight:700\", \"font-weight:bold\"]\n",
    "for key, value in rawTextFilePair_dict.items():\n",
    "    fileName = key\n",
    "    rawText = value\n",
    "    \n",
    "    i = 0\n",
    "    subject_lst = []\n",
    "    \n",
    "    while not subject_lst:\n",
    "        subjectFormat = subjectFormat_lst[i]\n",
    "        subject_lst = extract_subjects(rawText, subjectFormat)\n",
    "        i += 1\n",
    "        if i >= len(subjectFormat_lst):\n",
    "            break\n",
    "        \n",
    "    if not subject_lst:\n",
    "        print(\"The subject fail to extract for\", {fileName})\n",
    "    else:\n",
    "        subjectFolder = \"E:/Jupyter Notebook Files/ISE 540_Text Analytics/Project/Risk Factor Text/Technology Service Industry/Industry_7372/Subject/\"\n",
    "        subjectFilePath = subjectFolder + str(fileName)\n",
    "        with open(subjectFilePath, 'w', encoding='utf-8') as file:\n",
    "            for item in subject_lst:\n",
    "                file.write(item + '\\n')"
   ]
  },
  {
   "cell_type": "markdown",
   "id": "3d7faae6",
   "metadata": {},
   "source": [
    "---"
   ]
  },
  {
   "cell_type": "markdown",
   "id": "6add2e26",
   "metadata": {},
   "source": [
    "## 2.3.3 Industry 7374\n",
    "\n",
    "### 1. Read in the files and store in a dictionary"
   ]
  },
  {
   "cell_type": "code",
   "execution_count": 17,
   "id": "172eebb2",
   "metadata": {},
   "outputs": [],
   "source": [
    "folderPath = \"E:/Jupyter Notebook Files/ISE 540_Text Analytics/Project/Downloaded Financial Reports/Technology Service Industry/Industry_7374/\"\n",
    "fileName_lst = os.listdir(folderPath)\n",
    "filePair_dict = {} # filePair stores the file name and the corresponding file text.\n",
    "for fileName in fileName_lst:  \n",
    "    # encode each document\n",
    "    filePath = str(folderPath) + str(fileName)    \n",
    "    with open(filePath, 'r', encoding='utf-8') as file:\n",
    "        fileText = file.read()\n",
    "    filePair_dict[fileName] = fileText"
   ]
  },
  {
   "cell_type": "markdown",
   "id": "c28fafe5",
   "metadata": {},
   "source": [
    "### 2. Extract the raw risk factor text"
   ]
  },
  {
   "cell_type": "code",
   "execution_count": 18,
   "id": "42a2162b",
   "metadata": {
    "scrolled": true
   },
   "outputs": [
    {
     "name": "stdout",
     "output_type": "stream",
     "text": [
      "The extraction is failed for {'0001096906-23-000692.txt'} because of the error in extracting risk factors.\n",
      "The extraction is failed for {'0001140361-23-014888.txt'} because of the error in extracting risk factors.\n",
      "The extraction is failed for {'0001213900-23-021050.txt'} because of the error in extracting risk factors.\n",
      "The extraction is failed for {'0001288847-23-000029.txt'} because of the error in extracting risk factors.\n",
      "The extraction is failed for {'0001327811-22-000030.txt'} because of the error in extracting risk factors.\n",
      "The extraction is failed for {'0001437749-23-004945.txt'} because of the error in extracting risk factors.\n",
      "The extraction is failed for {'0001477932-22-002022.txt'} because of the error in extracting risk factors.\n",
      "The extraction is failed for {'0001477932-23-000012.txt'} because of the error in extracting risk factors.\n",
      "The extraction is failed for {'0001477932-23-002072.txt'} because of the error in extracting risk factors.\n",
      "The extraction is failed for {'0001493152-22-010127.txt'} because of the error in extracting risk factors.\n",
      "The extraction is failed for {'0001493152-22-017240.txt'} because of the error in extracting risk factors.\n",
      "The extraction is failed for {'0001493152-22-025630.txt'} because of the error in extracting risk factors.\n",
      "The extraction is failed for {'0001493152-22-027142.txt'} because of the error in extracting risk factors.\n",
      "The extraction is failed for {'0001493152-23-009881.txt'} because of the error in extracting risk factors.\n",
      "The extraction is failed for {'0001493152-23-009928.txt'} because of the error in extracting risk factors.\n",
      "The extraction is failed for {'0001493152-23-010055.txt'} because of the error in seperating main body.\n",
      "The extraction is failed for {'0001493152-23-010249.txt'} because of the error in extracting risk factors.\n",
      "The extraction is failed for {'0001520138-22-000131.txt'} because of the error in extracting risk factors.\n",
      "The extraction is failed for {'0001549346-23-000011.txt'} because of the error in extracting risk factors.\n",
      "The extraction is failed for {'0001558370-23-005301.txt'} because of the error in extracting risk factors.\n",
      "The extraction is failed for {'0001559865-23-000007.txt'} because of the error in extracting risk factors.\n",
      "The extraction is failed for {'0001564590-22-014016.txt'} because of the error in extracting risk factors.\n",
      "The extraction is failed for {'0001625278-23-000021.txt'} because of the error in seperating main body.\n",
      "The extraction is failed for {'0001645070-23-000013.txt'} because of the error in extracting risk factors.\n",
      "The extraction is failed for {'0001683168-23-001703.txt'} because of the error in extracting risk factors.\n",
      "The extraction is failed for {'0001688568-22-000027.txt'} because of the error in extracting risk factors.\n",
      "The extraction is failed for {'0001764046-23-000012.txt'} because of the error in extracting risk factors.\n",
      "The extraction is failed for {'0001801661-23-000005.txt'} because of the error in extracting risk factors.\n",
      "The extraction is failed for {'0001851734-22-000574.txt'} because of the error in extracting risk factors.\n"
     ]
    }
   ],
   "source": [
    "for key, value in filePair_dict.items():\n",
    "    fileName = key\n",
    "    fileText = value\n",
    "    mainBody = separate_main_body(fileText) # separate the original text as the table of content and the main body.\n",
    "    \n",
    "    if not mainBody:\n",
    "        print(\"The extraction is failed for\", {fileName}, \"because of the error in seperating main body.\")\n",
    "        continue\n",
    "    \n",
    "    riskText = extract_risk_factors(mainBody, fileName) # extract the risk related text\n",
    "    if not riskText:\n",
    "        print(\"The extraction is failed for\", {fileName}, \"because of the error in extracting risk factors.\")\n",
    "    else:\n",
    "        riskFilePath = \"E:/Jupyter Notebook Files/ISE 540_Text Analytics/Project/Risk Factor Text/Technology Service Industry/Industry_7374/Raw Text/\" + fileName\n",
    "        with open(riskFilePath, 'w', encoding='utf-8') as file:\n",
    "            file.write(riskText)"
   ]
  },
  {
   "cell_type": "markdown",
   "id": "d0f3d884",
   "metadata": {},
   "source": [
    "### 3. Extract the subjects from raw risk factors text"
   ]
  },
  {
   "cell_type": "code",
   "execution_count": 19,
   "id": "e365c993",
   "metadata": {},
   "outputs": [],
   "source": [
    "rawTextFolderPath = \"E:/Jupyter Notebook Files/ISE 540_Text Analytics/Project/Risk Factor Text/Technology Service Industry/Industry_7374/Raw Text/\"\n",
    "rawTextFileName_lst = os.listdir(rawTextFolderPath)\n",
    "rawTextFilePair_dict = {} # filePair stores the file name and the corresponding file text.\n",
    "for fileName in rawTextFileName_lst:  \n",
    "    # encode each document\n",
    "    filePath = str(rawTextFolderPath) + str(fileName)    \n",
    "    with open(filePath, 'r', encoding='utf-8') as file:\n",
    "        rawText = file.read()\n",
    "    rawTextFilePair_dict[fileName] = rawText"
   ]
  },
  {
   "cell_type": "code",
   "execution_count": 20,
   "id": "d5a0668c",
   "metadata": {
    "scrolled": false
   },
   "outputs": [
    {
     "name": "stdout",
     "output_type": "stream",
     "text": [
      "The subject fail to extract for {'0001065949-22-000047.txt'}\n",
      "The subject fail to extract for {'0001065949-23-000017.txt'}\n",
      "The subject fail to extract for {'0001096906-22-000873.txt'}\n",
      "The subject fail to extract for {'0001096906-23-000648.txt'}\n",
      "The subject fail to extract for {'0001185185-23-000161.txt'}\n",
      "The subject fail to extract for {'0001213900-23-021526.txt'}\n",
      "The subject fail to extract for {'0001213900-23-023197.txt'}\n",
      "The subject fail to extract for {'0001410578-23-000153.txt'}\n",
      "The subject fail to extract for {'0001437749-23-006745.txt'}\n",
      "The subject fail to extract for {'0001477932-22-002301.txt'}\n",
      "The subject fail to extract for {'0001477932-22-002322.txt'}\n",
      "The subject fail to extract for {'0001477932-22-002481.txt'}\n",
      "The subject fail to extract for {'0001477932-22-004928.txt'}\n",
      "The subject fail to extract for {'0001477932-22-007238.txt'}\n",
      "The subject fail to extract for {'0001493152-23-007879.txt'}\n",
      "The subject fail to extract for {'0001731122-23-000536.txt'}\n",
      "The subject fail to extract for {'0001740797-22-000007.txt'}\n",
      "The subject fail to extract for {'0001753373-23-000006.txt'}\n",
      "The subject fail to extract for {'0001756497-22-000007.txt'}\n"
     ]
    }
   ],
   "source": [
    "subjectFormat_lst = [\"font-weight:700\", \"font-weight:bold\"]\n",
    "for key, value in rawTextFilePair_dict.items():\n",
    "    fileName = key\n",
    "    rawText = value\n",
    "    \n",
    "    i = 0\n",
    "    subject_lst = []\n",
    "    \n",
    "    while not subject_lst:\n",
    "        subjectFormat = subjectFormat_lst[i]\n",
    "        subject_lst = extract_subjects(rawText, subjectFormat)\n",
    "        i += 1\n",
    "        if i >= len(subjectFormat_lst):\n",
    "            break\n",
    "        \n",
    "    if not subject_lst:\n",
    "        print(\"The subject fail to extract for\", {fileName})\n",
    "    else:\n",
    "        subjectFolder = \"E:/Jupyter Notebook Files/ISE 540_Text Analytics/Project/Risk Factor Text/Technology Service Industry/Industry_7374/Subject/\"\n",
    "        subjectFilePath = subjectFolder + str(fileName)\n",
    "        with open(subjectFilePath, 'w', encoding='utf-8') as file:\n",
    "            for item in subject_lst:\n",
    "                file.write(item + '\\n')"
   ]
  },
  {
   "cell_type": "code",
   "execution_count": null,
   "id": "0dec6029",
   "metadata": {},
   "outputs": [],
   "source": []
  }
 ],
 "metadata": {
  "kernelspec": {
   "display_name": "Python 3 (ipykernel)",
   "language": "python",
   "name": "python3"
  },
  "language_info": {
   "codemirror_mode": {
    "name": "ipython",
    "version": 3
   },
   "file_extension": ".py",
   "mimetype": "text/x-python",
   "name": "python",
   "nbconvert_exporter": "python",
   "pygments_lexer": "ipython3",
   "version": "3.11.5"
  }
 },
 "nbformat": 4,
 "nbformat_minor": 5
}
