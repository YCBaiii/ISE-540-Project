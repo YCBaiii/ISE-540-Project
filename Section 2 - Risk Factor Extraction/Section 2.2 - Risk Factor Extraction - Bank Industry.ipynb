{
 "cells": [
  {
   "cell_type": "markdown",
   "id": "209b9203",
   "metadata": {},
   "source": [
    "# Section 2 Risk Factor Extraction\n",
    "\n",
    "In section 1, we have downloaded the fincancial reports from 2019Q1 to 2023Q3. In this section, we are going to extract the risk factor text from each of these files. According to the requirement of the 10-K form given by SEC (https://www.sec.gov/files/form10-k.pdf), there is an section named \"Item 1A. Risk Factors\" included in the form  which shows the potential risks faced by the company. Therefore, it is important for us to filter and cleanse the text from this part so that we can use it for further analysis."
   ]
  },
  {
   "cell_type": "code",
   "execution_count": 1,
   "id": "66732524",
   "metadata": {},
   "outputs": [],
   "source": [
    "import pandas as pd\n",
    "import numpy as np\n",
    "import requests\n",
    "import os\n",
    "import re\n",
    "import html\n",
    "import warnings\n",
    "warnings.filterwarnings(\"ignore\")"
   ]
  },
  {
   "cell_type": "markdown",
   "id": "e4583031",
   "metadata": {},
   "source": [
    "# 2.2 Bank Industry (6022)\n",
    "\n",
    "In this section, we only focus on companies in Bank Industry."
   ]
  },
  {
   "cell_type": "markdown",
   "id": "f5597c74",
   "metadata": {},
   "source": [
    "## 2.2.1 Industry 6022\n",
    "\n",
    "### 1. Read in the files and store in a dictionary"
   ]
  },
  {
   "cell_type": "code",
   "execution_count": 2,
   "id": "7d0f61a1",
   "metadata": {},
   "outputs": [],
   "source": [
    "folderPath = \"E:/Jupyter Notebook Files/ISE 540_Text Analytics/Project/Downloaded Financial Reports/Bank Industry/Industry_6022/\"\n",
    "fileName_lst = os.listdir(folderPath)\n",
    "filePair_dict = {} # filePair stores the file name and the corresponding file text.\n",
    "for fileName in fileName_lst:  \n",
    "    # encode each document\n",
    "    filePath = str(folderPath) + str(fileName)    \n",
    "    with open(filePath, 'r', encoding='utf-8') as file:\n",
    "        fileText = file.read()\n",
    "    filePair_dict[fileName] = fileText"
   ]
  },
  {
   "cell_type": "code",
   "execution_count": 3,
   "id": "11835912",
   "metadata": {
    "scrolled": true
   },
   "outputs": [
    {
     "data": {
      "text/plain": [
       "dict_keys(['0000007789-23-000013.txt', '0000022356-23-000017.txt', '0000034782-23-000043.txt', '0000035527-23-000122.txt', '0000039311-23-000035.txt', '0000040729-23-000005.txt', '0000073124-23-000049.txt', '0000093751-23-000489.txt', '0000102212-23-000016.txt', '0000314489-23-000010.txt', '0000318300-23-000133.txt', '0000351569-23-000005.txt', '0000356171-23-000010.txt', '0000701347-23-000008.txt', '0000705432-23-000023.txt', '0000706129-23-000034.txt', '0000706863-23-000016.txt', '0000711669-23-000041.txt', '0000714395-23-000008.txt', '0000714562-23-000004.txt', '0000715072-23-000054.txt', '0000715579-23-000015.txt', '0000716605-23-000007.txt', '0000719220-23-000018.txt', '0000719739-23-000021.txt', '0000721994-23-000014.txt', '0000723646-23-000018.txt', '0000726601-23-000009.txt', '0000730708-23-000017.txt', '0000732417-23-000013.txt', '0000736772-23-000023.txt', '0000737468-23-000008.txt', '0000737875-23-000015.txt', '0000759944-23-000029.txt', '0000763563-23-000037.txt', '0000776901-23-000064.txt', '0000798941-23-000017.txt', '0000811589-23-000011.txt', '0000826154-23-000067.txt', '0000842517-23-000055.txt', '0000846901-23-000002.txt', '0000857855-23-000005.txt', '0000860413-23-000045.txt', '0000868671-23-000045.txt', '0000879635-23-000016.txt', '0000883948-23-000027.txt', '0000887343-23-000072.txt', '0000913341-23-000012.txt', '0000920112-23-000036.txt', '0000920427-23-000015.txt', '0000939057-23-000075.txt', '0000939057-23-000085.txt', '0000946673-23-000009.txt', '0000950170-23-003804.txt', '0000950170-23-003864.txt', '0000950170-23-004425.txt', '0000950170-23-004433.txt', '0000950170-23-005167.txt', '0000950170-23-005527.txt', '0000950170-23-005975.txt', '0000950170-23-006036.txt', '0000950170-23-006310.txt', '0000950170-23-007035.txt', '0000950170-23-007069.txt', '0000950170-23-007191.txt', '0000950170-23-007265.txt', '0000950170-23-007840.txt', '0000950170-23-008123.txt', '0000950170-23-008286.txt', '0000950170-23-008442.txt', '0000950170-23-010622.txt', '0000950170-23-010964.txt', '0000950170-23-011185.txt', '0001005817-23-000002.txt', '0001015328-23-000070.txt', '0001018399-23-000012.txt', '0001025835-23-000022.txt', '0001028918-23-000015.txt', '0001030469-23-000010.txt', '0001050441-23-000060.txt', '0001057706-23-000002.txt', '0001069157-23-000016.txt', '0001071236-23-000023.txt', '0001077428-23-000014.txt', '0001096906-22-001652.txt', '0001118004-23-000006.txt', '0001127371-23-000043.txt', '0001140361-23-007466.txt', '0001140361-23-009057.txt', '0001140361-23-009386.txt', '0001140361-23-010821.txt', '0001140361-23-011435.txt', '0001140361-23-013386.txt', '0001140361-23-013727.txt', '0001140361-23-014828.txt', '0001140361-23-015469.txt', '0001166928-23-000028.txt', '0001171843-23-001247.txt', '0001185185-23-000285.txt', '0001193125-23-056045.txt', '0001193125-23-056454.txt', '0001193125-23-074092.txt', '0001193125-23-078646.txt', '0001193125-23-079231.txt', '0001212545-23-000093.txt', '0001213900-23-018266.txt', '0001275168-23-000049.txt', '0001277902-23-000042.txt', '0001315399-23-000020.txt', '0001327607-23-000023.txt', '0001331520-23-000011.txt', '0001390777-23-000033.txt', '0001403475-23-000015.txt', '0001410578-23-000244.txt', '0001410578-23-000281.txt', '0001412665-23-000028.txt', '0001423869-23-000007.txt', '0001437749-23-004190.txt', '0001437749-23-004492.txt', '0001437749-23-004537.txt', '0001437749-23-004952.txt', '0001437749-23-005213.txt', '0001437749-23-005339.txt', '0001437749-23-005778.txt', '0001437749-23-005810.txt', '0001437749-23-005878.txt', '0001437749-23-006190.txt', '0001437749-23-006605.txt', '0001437749-23-006727.txt', '0001437749-23-006793.txt', '0001437749-23-007584.txt', '0001437749-23-007608.txt', '0001437749-23-008206.txt', '0001437749-23-008389.txt', '0001437749-23-008571.txt', '0001437958-23-000051.txt', '0001449794-23-000007.txt', '0001462120-23-000016.txt', '0001466026-23-000006.txt', '0001475348-23-000009.txt', '0001488813-23-000012.txt', '0001501570-23-000068.txt', '0001505732-23-000109.txt', '0001516912-23-000013.txt', '0001518715-23-000047.txt', '0001521951-23-000028.txt', '0001544784-23-000006.txt', '0001552781-23-000156.txt', '0001558370-23-001524.txt', '0001558370-23-001892.txt', '0001558370-23-002028.txt', '0001558370-23-002048.txt', '0001558370-23-002263.txt', '0001558370-23-002423.txt', '0001558370-23-002607.txt', '0001558370-23-002793.txt', '0001558370-23-002993.txt', '0001558370-23-003139.txt', '0001558370-23-003189.txt', '0001558370-23-003238.txt', '0001558370-23-003286.txt', '0001558370-23-003362.txt', '0001558370-23-003742.txt', '0001558370-23-003746.txt', '0001558370-23-003919.txt', '0001558370-23-003990.txt', '0001558370-23-004012.txt', '0001558370-23-004055.txt', '0001558370-23-004473.txt', '0001558370-23-004543.txt', '0001558370-23-004858.txt', '0001558370-23-004901.txt', '0001562463-23-000022.txt', '0001562762-23-000082.txt', '0001562762-23-000122.txt', '0001562762-23-000130.txt', '0001562762-23-000147.txt', '0001564590-23-002876.txt', '0001564590-23-003301.txt', '0001564590-23-003539.txt', '0001564590-23-004803.txt', '0001564618-23-000029.txt', '0001605301-23-000008.txt', '0001628280-22-013593.txt', '0001628280-23-003699.txt', '0001628280-23-005999.txt', '0001628280-23-007817.txt', '0001628280-23-008245.txt', '0001628280-23-010106.txt', '0001649739-23-000111.txt', '0001649749-23-000047.txt', '0001654954-23-003112.txt', '0001654954-23-003359.txt', '0001675644-23-000038.txt', '0001725872-23-000002.txt', '0001730984-23-000020.txt', '0001747068-23-000010.txt', '0001823608-23-000031.txt', '0001839882-23-005612.txt', '0001903596-23-000257.txt'])"
      ]
     },
     "execution_count": 3,
     "metadata": {},
     "output_type": "execute_result"
    }
   ],
   "source": [
    "filePair_dict.keys()"
   ]
  },
  {
   "cell_type": "markdown",
   "id": "430007e8",
   "metadata": {},
   "source": [
    "### 2. Extract the raw risk factor text"
   ]
  },
  {
   "cell_type": "code",
   "execution_count": 4,
   "id": "3f5e35d1",
   "metadata": {},
   "outputs": [],
   "source": [
    "def remove_tags(text):\n",
    "    # replace the tag included by <> to a \\ \n",
    "    pattern1 = r'<[^>]*>'\n",
    "    cleanText = re.sub(pattern1, \"|\", text)\n",
    "    \n",
    "    # replace the multiple continued \\ to a single \\\n",
    "    cleanText = re.sub(r'\\s*\\|+\\s*', '|', cleanText)\n",
    "    cleanText = re.sub(r'\\|+', '|', cleanText)\n",
    "    \n",
    "    # replace the unicode\n",
    "    cleanText = html.unescape(cleanText)\n",
    "    \n",
    "    # remove the line break\n",
    "    cleanText = cleanText.replace('\\n', '')\n",
    "    # remove the pure numbers text between \\\n",
    "    cleanText = re.sub(r'\\|(\\d+)\\|', '|', cleanText)\n",
    "    # remove the unrecognized string\n",
    "    cleanText = re.sub(r'|\\xa0\\|', '', cleanText)\n",
    "    cleanText = re.sub(r'|\\xa0|', '', cleanText)\n",
    "    return cleanText"
   ]
  },
  {
   "cell_type": "code",
   "execution_count": 5,
   "id": "d16e20d9",
   "metadata": {},
   "outputs": [],
   "source": [
    "def separate_main_body(text):\n",
    "    lastContentInTC_lst = [\">form 10-k summary<\", \">item 16. form 10-k summary<\", r\">exhibits, financial statement schedules<\", \n",
    "                           r\">exhibits and financial statement schedules<\", r\"exhibits and financial statement schedules <\",\n",
    "                           \">exhibits<\"]\n",
    "    start_idx = -1\n",
    "    for content in lastContentInTC_lst:\n",
    "        if content in text.lower():\n",
    "            start_idx = text.lower().find(content)\n",
    "            break\n",
    "            \n",
    "    if start_idx == -1:\n",
    "        return False\n",
    "    \n",
    "    mainBody = text[start_idx:]\n",
    "    mainBody = html.unescape(mainBody)\n",
    "    return mainBody"
   ]
  },
  {
   "cell_type": "code",
   "execution_count": 6,
   "id": "cfc79098",
   "metadata": {},
   "outputs": [],
   "source": [
    "def extract_risk_factors(mainBody, fileName):\n",
    "    # match the risk factor\n",
    "    keywordMatch = re.findall(r\">item 1a.\\s+risk factors\\.?\\<\", mainBody.lower())\n",
    "    \n",
    "    # if fail to match the pattern, the pattern might be segmented be some html tags, so re-match\n",
    "    if not keywordMatch:\n",
    "        keyword = seperated_keyword_rematch(mainBody)\n",
    "        \n",
    "    # if match the pattern successfully, just keep the keyword of risk factor\n",
    "    else:\n",
    "        keyword = keywordMatch[0]\n",
    "    \n",
    "    # check if match successfully\n",
    "    if not keyword:\n",
    "        return False\n",
    "    keywordCheck_lst = [\"item\", r\"item 1a\\.?\", \"risk\", \"factors\", \"risk factors\"]\n",
    "    if keyword in keywordCheck_lst:\n",
    "        print(\"Warning: It is better to check whether the extraction is correct manually for file\", {fileName})\n",
    "    \n",
    "    # match the next section of the risk factor\n",
    "    nextSectionPattern_lst = [r\">item 1b.\\s+unresolved staff comments\\.?\\<\", r\">item 2.\\s+description of property\\.?\\<\"]\n",
    "    for pattern in nextSectionPattern_lst:\n",
    "        nextSectionMatch = re.findall(pattern, mainBody.lower())\n",
    "        \n",
    "        # if fail to match the pattern, the pattern might be segmented be some html tags, so re-match\n",
    "        if not nextSectionMatch:\n",
    "            nextSection = seperated_next_section_rematch(mainBody, pattern)\n",
    "            # if re-match successfully, jump out of the loop\n",
    "            if nextSection:\n",
    "                break\n",
    "        \n",
    "        # if match the pattern successfully, just keep the next section keyword and jump out of the loop\n",
    "        else:\n",
    "            nextSection = nextSectionMatch[0]\n",
    "            break\n",
    "    \n",
    "    # check if match successfully\n",
    "    if not nextSection:\n",
    "        return False\n",
    "    \n",
    "    # if match successfully, extract the risk factor\n",
    "    start_idx = mainBody.lower().find(keyword) # start index is the position of the keyword occured in the main body\n",
    "    end_idx = mainBody.lower().find(nextSection) # end index is the position of the next section begin in the main body\n",
    "    riskFactors = mainBody[start_idx: end_idx]\n",
    "    return riskFactors"
   ]
  },
  {
   "cell_type": "code",
   "execution_count": 7,
   "id": "b8609aed",
   "metadata": {},
   "outputs": [],
   "source": [
    "def seperated_keyword_rematch(mainBody):\n",
    "    cleanedMainBody = remove_tags(mainBody)\n",
    "    keywordMatch = re.findall(r\"i\\|?t\\|?e\\|?m\\|?\\s+\\|?1\\|?a\\|?.\\|?\\s+\\|?r\\|?i\\|?s\\|?k\\|?\\s+\\|?f\\|?a\\|?c\\|?t\\|?o\\|?r\\|?s\\.?\", cleanedMainBody.lower())\n",
    "    \n",
    "    # check if re-match the keyword of risk factor successfully\n",
    "    if not keywordMatch:\n",
    "        return False\n",
    "    \n",
    "    # if re-match successfully, use the longer segmentation as the keyword of the risk factor\n",
    "    reMatchedKeyword = max(keywordMatch[0].split('|'), key=len)\n",
    "    return reMatchedKeyword\n",
    "    \n",
    "def seperated_next_section_rematch(mainBody, nextSectionPattern):\n",
    "    # cleanse the main body text\n",
    "    cleanedMainBody = remove_tags(mainBody)\n",
    "    \n",
    "    # edit the pattern \n",
    "    edittedPattern = nextSectionPattern.replace(r\">\", \"\").replace(r\"\\s+\", \" \").replace(r\"\\.?\\<\", \"\")\n",
    "    edittedPattern = \"\\|?\".join(edittedPattern)\n",
    "    edittedPattern = r\"{}\\.?\".format(edittedPattern)\n",
    "    pattern = edittedPattern.replace(\" \", \"\\s?+\")\n",
    "    nextSectionMatch = re.findall(pattern, cleanedMainBody.lower())\n",
    "    \n",
    "    # check if re-match the keyword of next section successfully\n",
    "    if not nextSectionMatch:\n",
    "        return False\n",
    "    \n",
    "    # if re-match successfully, use the longer segmentation as the keyword of the next section \n",
    "    reMatchedNextSection = max(nextSectionMatch[0].split('|'), key=len)\n",
    "    return reMatchedNextSection"
   ]
  },
  {
   "cell_type": "code",
   "execution_count": 8,
   "id": "72c7e086",
   "metadata": {
    "scrolled": true
   },
   "outputs": [
    {
     "name": "stdout",
     "output_type": "stream",
     "text": [
      "The extraction is failed for {'0000039311-23-000035.txt'} because of the error in extracting risk factors.\n",
      "The extraction is failed for {'0000040729-23-000005.txt'} because of the error in extracting risk factors.\n",
      "The extraction is failed for {'0000073124-23-000049.txt'} because of the error in extracting risk factors.\n",
      "The extraction is failed for {'0000102212-23-000016.txt'} because of the error in extracting risk factors.\n",
      "The extraction is failed for {'0000318300-23-000133.txt'} because of the error in extracting risk factors.\n",
      "The extraction is failed for {'0000351569-23-000005.txt'} because of the error in extracting risk factors.\n",
      "The extraction is failed for {'0000356171-23-000010.txt'} because of the error in extracting risk factors.\n",
      "The extraction is failed for {'0000705432-23-000023.txt'} because of the error in extracting risk factors.\n",
      "The extraction is failed for {'0000711669-23-000041.txt'} because of the error in extracting risk factors.\n",
      "The extraction is failed for {'0000714562-23-000004.txt'} because of the error in extracting risk factors.\n",
      "The extraction is failed for {'0000715072-23-000054.txt'} because of the error in extracting risk factors.\n",
      "The extraction is failed for {'0000715579-23-000015.txt'} because of the error in extracting risk factors.\n",
      "The extraction is failed for {'0000719739-23-000021.txt'} because of the error in extracting risk factors.\n",
      "The extraction is failed for {'0000721994-23-000014.txt'} because of the error in extracting risk factors.\n",
      "The extraction is failed for {'0000726601-23-000009.txt'} because of the error in extracting risk factors.\n",
      "The extraction is failed for {'0000730708-23-000017.txt'} because of the error in extracting risk factors.\n",
      "The extraction is failed for {'0000732417-23-000013.txt'} because of the error in extracting risk factors.\n",
      "The extraction is failed for {'0000759944-23-000029.txt'} because of the error in extracting risk factors.\n",
      "The extraction is failed for {'0000776901-23-000064.txt'} because of the error in extracting risk factors.\n",
      "The extraction is failed for {'0000798941-23-000017.txt'} because of the error in extracting risk factors.\n",
      "The extraction is failed for {'0000826154-23-000067.txt'} because of the error in extracting risk factors.\n",
      "The extraction is failed for {'0000842517-23-000055.txt'} because of the error in extracting risk factors.\n",
      "The extraction is failed for {'0000846901-23-000002.txt'} because of the error in extracting risk factors.\n",
      "The extraction is failed for {'0000883948-23-000027.txt'} because of the error in seperating main body.\n",
      "The extraction is failed for {'0000887343-23-000072.txt'} because of the error in extracting risk factors.\n",
      "The extraction is failed for {'0000913341-23-000012.txt'} because of the error in extracting risk factors.\n",
      "The extraction is failed for {'0000920112-23-000036.txt'} because of the error in extracting risk factors.\n",
      "The extraction is failed for {'0000920427-23-000015.txt'} because of the error in extracting risk factors.\n",
      "The extraction is failed for {'0000939057-23-000085.txt'} because of the error in extracting risk factors.\n",
      "The extraction is failed for {'0000946673-23-000009.txt'} because of the error in extracting risk factors.\n",
      "The extraction is failed for {'0000950170-23-003804.txt'} because of the error in extracting risk factors.\n",
      "The extraction is failed for {'0000950170-23-003864.txt'} because of the error in extracting risk factors.\n",
      "The extraction is failed for {'0000950170-23-004425.txt'} because of the error in extracting risk factors.\n",
      "The extraction is failed for {'0000950170-23-004433.txt'} because of the error in extracting risk factors.\n",
      "The extraction is failed for {'0000950170-23-006310.txt'} because of the error in extracting risk factors.\n",
      "The extraction is failed for {'0000950170-23-007069.txt'} because of the error in extracting risk factors.\n",
      "The extraction is failed for {'0000950170-23-007840.txt'} because of the error in extracting risk factors.\n",
      "The extraction is failed for {'0000950170-23-008442.txt'} because of the error in seperating main body.\n",
      "The extraction is failed for {'0000950170-23-010622.txt'} because of the error in extracting risk factors.\n",
      "The extraction is failed for {'0000950170-23-010964.txt'} because of the error in extracting risk factors.\n",
      "The extraction is failed for {'0001018399-23-000012.txt'} because of the error in extracting risk factors.\n",
      "The extraction is failed for {'0001028918-23-000015.txt'} because of the error in seperating main body.\n",
      "The extraction is failed for {'0001057706-23-000002.txt'} because of the error in extracting risk factors.\n",
      "The extraction is failed for {'0001077428-23-000014.txt'} because of the error in extracting risk factors.\n",
      "The extraction is failed for {'0001096906-22-001652.txt'} because of the error in extracting risk factors.\n",
      "The extraction is failed for {'0001127371-23-000043.txt'} because of the error in extracting risk factors.\n",
      "The extraction is failed for {'0001140361-23-007466.txt'} because of the error in extracting risk factors.\n",
      "The extraction is failed for {'0001140361-23-009057.txt'} because of the error in extracting risk factors.\n",
      "The extraction is failed for {'0001140361-23-010821.txt'} because of the error in seperating main body.\n",
      "The extraction is failed for {'0001140361-23-011435.txt'} because of the error in extracting risk factors.\n",
      "The extraction is failed for {'0001140361-23-013386.txt'} because of the error in extracting risk factors.\n",
      "The extraction is failed for {'0001140361-23-015469.txt'} because of the error in extracting risk factors.\n",
      "The extraction is failed for {'0001185185-23-000285.txt'} because of the error in extracting risk factors.\n",
      "The extraction is failed for {'0001193125-23-056045.txt'} because of the error in extracting risk factors.\n",
      "The extraction is failed for {'0001193125-23-078646.txt'} because of the error in extracting risk factors.\n",
      "The extraction is failed for {'0001193125-23-079231.txt'} because of the error in seperating main body.\n",
      "The extraction is failed for {'0001212545-23-000093.txt'} because of the error in extracting risk factors.\n",
      "The extraction is failed for {'0001410578-23-000281.txt'} because of the error in extracting risk factors.\n",
      "The extraction is failed for {'0001437749-23-004190.txt'} because of the error in extracting risk factors.\n",
      "The extraction is failed for {'0001437749-23-004492.txt'} because of the error in extracting risk factors.\n",
      "The extraction is failed for {'0001437749-23-004537.txt'} because of the error in seperating main body.\n",
      "The extraction is failed for {'0001437749-23-005339.txt'} because of the error in extracting risk factors.\n",
      "The extraction is failed for {'0001437749-23-005778.txt'} because of the error in extracting risk factors.\n",
      "The extraction is failed for {'0001437749-23-005810.txt'} because of the error in extracting risk factors.\n",
      "The extraction is failed for {'0001437749-23-006605.txt'} because of the error in extracting risk factors.\n",
      "The extraction is failed for {'0001437749-23-006727.txt'} because of the error in extracting risk factors.\n",
      "The extraction is failed for {'0001437749-23-006793.txt'} because of the error in extracting risk factors.\n",
      "The extraction is failed for {'0001437749-23-008206.txt'} because of the error in extracting risk factors.\n",
      "The extraction is failed for {'0001437749-23-008571.txt'} because of the error in extracting risk factors.\n",
      "The extraction is failed for {'0001462120-23-000016.txt'} because of the error in extracting risk factors.\n",
      "The extraction is failed for {'0001466026-23-000006.txt'} because of the error in extracting risk factors.\n",
      "The extraction is failed for {'0001488813-23-000012.txt'} because of the error in extracting risk factors.\n",
      "The extraction is failed for {'0001505732-23-000109.txt'} because of the error in extracting risk factors.\n",
      "The extraction is failed for {'0001516912-23-000013.txt'} because of the error in seperating main body.\n",
      "The extraction is failed for {'0001518715-23-000047.txt'} because of the error in extracting risk factors.\n",
      "The extraction is failed for {'0001544784-23-000006.txt'} because of the error in seperating main body.\n",
      "The extraction is failed for {'0001552781-23-000156.txt'} because of the error in seperating main body.\n"
     ]
    },
    {
     "name": "stdout",
     "output_type": "stream",
     "text": [
      "The extraction is failed for {'0001558370-23-001892.txt'} because of the error in extracting risk factors.\n",
      "The extraction is failed for {'0001558370-23-002028.txt'} because of the error in extracting risk factors.\n",
      "The extraction is failed for {'0001558370-23-002263.txt'} because of the error in extracting risk factors.\n",
      "The extraction is failed for {'0001558370-23-002423.txt'} because of the error in extracting risk factors.\n",
      "The extraction is failed for {'0001558370-23-002607.txt'} because of the error in extracting risk factors.\n",
      "The extraction is failed for {'0001558370-23-002793.txt'} because of the error in seperating main body.\n",
      "The extraction is failed for {'0001558370-23-002993.txt'} because of the error in seperating main body.\n",
      "The extraction is failed for {'0001558370-23-003139.txt'} because of the error in extracting risk factors.\n",
      "The extraction is failed for {'0001558370-23-003238.txt'} because of the error in extracting risk factors.\n",
      "The extraction is failed for {'0001558370-23-003742.txt'} because of the error in extracting risk factors.\n",
      "The extraction is failed for {'0001558370-23-003746.txt'} because of the error in seperating main body.\n",
      "The extraction is failed for {'0001558370-23-003919.txt'} because of the error in extracting risk factors.\n",
      "The extraction is failed for {'0001558370-23-003990.txt'} because of the error in seperating main body.\n",
      "The extraction is failed for {'0001558370-23-004012.txt'} because of the error in extracting risk factors.\n",
      "The extraction is failed for {'0001558370-23-004055.txt'} because of the error in extracting risk factors.\n",
      "The extraction is failed for {'0001558370-23-004473.txt'} because of the error in extracting risk factors.\n",
      "The extraction is failed for {'0001558370-23-004543.txt'} because of the error in seperating main body.\n",
      "The extraction is failed for {'0001558370-23-004858.txt'} because of the error in extracting risk factors.\n",
      "The extraction is failed for {'0001558370-23-004901.txt'} because of the error in extracting risk factors.\n",
      "The extraction is failed for {'0001562463-23-000022.txt'} because of the error in extracting risk factors.\n",
      "The extraction is failed for {'0001562762-23-000082.txt'} because of the error in extracting risk factors.\n",
      "The extraction is failed for {'0001562762-23-000122.txt'} because of the error in seperating main body.\n",
      "The extraction is failed for {'0001562762-23-000130.txt'} because of the error in extracting risk factors.\n",
      "The extraction is failed for {'0001564590-23-002876.txt'} because of the error in extracting risk factors.\n",
      "The extraction is failed for {'0001564590-23-003301.txt'} because of the error in extracting risk factors.\n",
      "The extraction is failed for {'0001564590-23-004803.txt'} because of the error in extracting risk factors.\n",
      "The extraction is failed for {'0001605301-23-000008.txt'} because of the error in extracting risk factors.\n",
      "The extraction is failed for {'0001628280-22-013593.txt'} because of the error in extracting risk factors.\n",
      "The extraction is failed for {'0001649749-23-000047.txt'} because of the error in extracting risk factors.\n",
      "The extraction is failed for {'0001654954-23-003112.txt'} because of the error in extracting risk factors.\n",
      "The extraction is failed for {'0001725872-23-000002.txt'} because of the error in extracting risk factors.\n",
      "The extraction is failed for {'0001730984-23-000020.txt'} because of the error in extracting risk factors.\n",
      "The extraction is failed for {'0001839882-23-005612.txt'} because of the error in extracting risk factors.\n",
      "The extraction is failed for {'0001903596-23-000257.txt'} because of the error in extracting risk factors.\n"
     ]
    }
   ],
   "source": [
    "for key, value in filePair_dict.items():\n",
    "    fileName = key\n",
    "    fileText = value\n",
    "    mainBody = separate_main_body(fileText) # separate the original text as the table of content and the main body.\n",
    "    \n",
    "    if not mainBody:\n",
    "        print(\"The extraction is failed for\", {fileName}, \"because of the error in seperating main body.\")\n",
    "        continue\n",
    "    \n",
    "    riskText = extract_risk_factors(mainBody, fileName) # extract the risk related text\n",
    "    if not riskText:\n",
    "        print(\"The extraction is failed for\", {fileName}, \"because of the error in extracting risk factors.\")\n",
    "    else:\n",
    "        riskFilePath = \"E:/Jupyter Notebook Files/ISE 540_Text Analytics/Project/Risk Factor Text/Bank Industry/Industry_6022/Raw Text/\" + fileName\n",
    "        with open(riskFilePath, 'w', encoding='utf-8') as file:\n",
    "            file.write(riskText)"
   ]
  },
  {
   "cell_type": "markdown",
   "id": "243a5e11",
   "metadata": {},
   "source": [
    "### 3. Extract the subjects from raw risk factors text"
   ]
  },
  {
   "cell_type": "code",
   "execution_count": 9,
   "id": "116b58f4",
   "metadata": {},
   "outputs": [],
   "source": [
    "from bs4 import BeautifulSoup\n",
    "\n",
    "def extract_subjects(riskFactors, subjectFormat):\n",
    "    soup = BeautifulSoup(riskFactors, 'html.parser')\n",
    "    subject_lst = []\n",
    "    for span in soup.find_all('span'):\n",
    "        style = span.get('style')\n",
    "        if style and subjectFormat in style:\n",
    "            subject_lst.append(span.get_text())\n",
    "    return subject_lst"
   ]
  },
  {
   "cell_type": "code",
   "execution_count": 10,
   "id": "a8c6f751",
   "metadata": {},
   "outputs": [],
   "source": [
    "rawTextFolderPath = \"E:/Jupyter Notebook Files/ISE 540_Text Analytics/Project/Risk Factor Text/Bank Industry/Industry_6022/Raw Text/\"\n",
    "rawTextFileName_lst = os.listdir(rawTextFolderPath)\n",
    "rawTextFilePair_dict = {} # filePair stores the file name and the corresponding file text.\n",
    "for fileName in rawTextFileName_lst:  \n",
    "    # encode each document\n",
    "    filePath = str(rawTextFolderPath) + str(fileName)    \n",
    "    with open(filePath, 'r', encoding='utf-8') as file:\n",
    "        rawText = file.read()\n",
    "    rawTextFilePair_dict[fileName] = rawText"
   ]
  },
  {
   "cell_type": "code",
   "execution_count": 11,
   "id": "1e115c50",
   "metadata": {
    "scrolled": false
   },
   "outputs": [
    {
     "name": "stdout",
     "output_type": "stream",
     "text": [
      "The subject fail to extract for {'0000723646-23-000018.txt'}\n",
      "The subject fail to extract for {'0001140361-23-009386.txt'}\n",
      "The subject fail to extract for {'0001140361-23-013727.txt'}\n",
      "The subject fail to extract for {'0001140361-23-014828.txt'}\n",
      "The subject fail to extract for {'0001171843-23-001247.txt'}\n",
      "The subject fail to extract for {'0001193125-23-056454.txt'}\n",
      "The subject fail to extract for {'0001193125-23-074092.txt'}\n",
      "The subject fail to extract for {'0001213900-23-018266.txt'}\n",
      "The subject fail to extract for {'0001315399-23-000020.txt'}\n",
      "The subject fail to extract for {'0001390777-23-000033.txt'}\n",
      "The subject fail to extract for {'0001437749-23-004952.txt'}\n",
      "The subject fail to extract for {'0001437749-23-005213.txt'}\n",
      "The subject fail to extract for {'0001437749-23-005878.txt'}\n",
      "The subject fail to extract for {'0001437749-23-006190.txt'}\n",
      "The subject fail to extract for {'0001437749-23-007584.txt'}\n",
      "The subject fail to extract for {'0001437749-23-007608.txt'}\n",
      "The subject fail to extract for {'0001437749-23-008389.txt'}\n",
      "The subject fail to extract for {'0001449794-23-000007.txt'}\n",
      "The subject fail to extract for {'0001562762-23-000147.txt'}\n",
      "The subject fail to extract for {'0001654954-23-003359.txt'}\n"
     ]
    }
   ],
   "source": [
    "subjectFormat_lst = [\"font-weight:700\", \"font-weight:bold\"]\n",
    "for key, value in rawTextFilePair_dict.items():\n",
    "    fileName = key\n",
    "    rawText = value\n",
    "    \n",
    "    i = 0\n",
    "    subject_lst = []\n",
    "    \n",
    "    while not subject_lst:\n",
    "        subjectFormat = subjectFormat_lst[i]\n",
    "        subject_lst = extract_subjects(rawText, subjectFormat)\n",
    "        i += 1\n",
    "        if i >= len(subjectFormat_lst):\n",
    "            break\n",
    "        \n",
    "    if not subject_lst:\n",
    "        print(\"The subject fail to extract for\", {fileName})\n",
    "    else:\n",
    "        subjectFolder = \"E:/Jupyter Notebook Files/ISE 540_Text Analytics/Project/Risk Factor Text/Bank Industry/Industry_6022/Subject/\"\n",
    "        subjectFilePath = subjectFolder + str(fileName)\n",
    "        with open(subjectFilePath, 'w', encoding='utf-8') as file:\n",
    "            for item in subject_lst:\n",
    "                file.write(item + '\\n')"
   ]
  },
  {
   "cell_type": "markdown",
   "id": "34a084bd",
   "metadata": {},
   "source": [
    "---"
   ]
  },
  {
   "cell_type": "markdown",
   "id": "25dd1d4b",
   "metadata": {},
   "source": [
    "## 2.2.2 Industry 6021\n",
    "\n",
    "### 1. Read in the files and store in a dictionary"
   ]
  },
  {
   "cell_type": "code",
   "execution_count": 12,
   "id": "226a4a67",
   "metadata": {},
   "outputs": [],
   "source": [
    "folderPath = \"E:/Jupyter Notebook Files/ISE 540_Text Analytics/Project/Downloaded Financial Reports/Bank Industry/Industry_6021/\"\n",
    "fileName_lst = os.listdir(folderPath)\n",
    "filePair_dict = {} # filePair stores the file name and the corresponding file text.\n",
    "for fileName in fileName_lst:  \n",
    "    # encode each document\n",
    "    filePath = str(folderPath) + str(fileName)    \n",
    "    with open(filePath, 'r', encoding='utf-8') as file:\n",
    "        fileText = file.read()\n",
    "    filePair_dict[fileName] = fileText"
   ]
  },
  {
   "cell_type": "markdown",
   "id": "56ad3d5d",
   "metadata": {},
   "source": [
    "### 2. Extract the raw risk factor text"
   ]
  },
  {
   "cell_type": "code",
   "execution_count": 13,
   "id": "4d7ba613",
   "metadata": {
    "scrolled": true
   },
   "outputs": [
    {
     "name": "stdout",
     "output_type": "stream",
     "text": [
      "The extraction is failed for {'0000018349-23-000061.txt'} because of the error in extracting risk factors.\n",
      "The extraction is failed for {'0000019617-23-000231.txt'} because of the error in extracting risk factors.\n",
      "The extraction is failed for {'0000037808-23-000005.txt'} because of the error in extracting risk factors.\n",
      "The extraction is failed for {'0000049196-23-000020.txt'} because of the error in extracting risk factors.\n",
      "The extraction is failed for {'0000072971-23-000071.txt'} because of the error in extracting risk factors.\n",
      "The extraction is failed for {'0000083246-23-000004.txt'} because of the error in extracting risk factors.\n",
      "The extraction is failed for {'0000092230-23-000034.txt'} because of the error in extracting risk factors.\n",
      "The extraction is failed for {'0000712537-23-000050.txt'} because of the error in extracting risk factors.\n",
      "The extraction is failed for {'0000713676-23-000020.txt'} because of the error in extracting risk factors.\n",
      "The extraction is failed for {'0000726854-23-000015.txt'} because of the error in extracting risk factors.\n",
      "The extraction is failed for {'0000765207-23-000010.txt'} because of the error in seperating main body.\n",
      "The extraction is failed for {'0000805676-23-000044.txt'} because of the error in extracting risk factors.\n",
      "The extraction is failed for {'0000811830-23-000005.txt'} because of the error in extracting risk factors.\n",
      "The extraction is failed for {'0000831001-23-000037.txt'} because of the error in seperating main body.\n",
      "The extraction is failed for {'0000842518-23-000016.txt'} because of the error in extracting risk factors.\n",
      "The extraction is failed for {'0000893847-23-000005.txt'} because of the error in seperating main body.\n",
      "The extraction is failed for {'0000950170-23-003087.txt'} because of the error in extracting risk factors.\n",
      "The extraction is failed for {'0000950170-23-004507.txt'} because of the error in extracting risk factors.\n",
      "The extraction is failed for {'0000950170-23-007344.txt'} because of the error in extracting risk factors.\n",
      "The extraction is failed for {'0001070680-23-000009.txt'} because of the error in extracting risk factors.\n",
      "The extraction is failed for {'0001074902-23-000046.txt'} because of the error in seperating main body.\n",
      "The extraction is failed for {'0001137547-23-000012.txt'} because of the error in seperating main body.\n",
      "The extraction is failed for {'0001140361-23-009417.txt'} because of the error in extracting risk factors.\n",
      "The extraction is failed for {'0001140361-23-015416.txt'} because of the error in extracting risk factors.\n",
      "The extraction is failed for {'0001193125-23-050691.txt'} because of the error in extracting risk factors.\n",
      "The extraction is failed for {'0001281761-23-000012.txt'} because of the error in extracting risk factors.\n",
      "The extraction is failed for {'0001410578-23-000196.txt'} because of the error in extracting risk factors.\n",
      "The extraction is failed for {'0001419536-23-000054.txt'} because of the error in extracting risk factors.\n",
      "The extraction is failed for {'0001437749-22-022524.txt'} because of the error in extracting risk factors.\n",
      "The extraction is failed for {'0001437749-23-004906.txt'} because of the error in extracting risk factors.\n",
      "The extraction is failed for {'0001437749-23-005518.txt'} because of the error in extracting risk factors.\n",
      "The extraction is failed for {'0001437749-23-006166.txt'} because of the error in extracting risk factors.\n",
      "The extraction is failed for {'0001437749-23-006386.txt'} because of the error in extracting risk factors.\n",
      "The extraction is failed for {'0001437749-23-006452.txt'} because of the error in extracting risk factors.\n",
      "The extraction is failed for {'0001437749-23-007221.txt'} because of the error in extracting risk factors.\n",
      "The extraction is failed for {'0001493152-23-006772.txt'} because of the error in extracting risk factors.\n",
      "The extraction is failed for {'0001558370-23-003515.txt'} because of the error in extracting risk factors.\n",
      "The extraction is failed for {'0001558370-23-003863.txt'} because of the error in extracting risk factors.\n",
      "The extraction is failed for {'0001558370-23-004042.txt'} because of the error in extracting risk factors.\n",
      "The extraction is failed for {'0001558370-23-004547.txt'} because of the error in extracting risk factors.\n",
      "The extraction is failed for {'0001558370-23-005139.txt'} because of the error in extracting risk factors.\n",
      "The extraction is failed for {'0001562762-23-000066.txt'} because of the error in seperating main body.\n",
      "The extraction is failed for {'0001564590-23-002256.txt'} because of the error in extracting risk factors.\n",
      "The extraction is failed for {'0001628280-23-005573.txt'} because of the error in extracting risk factors.\n",
      "The extraction is failed for {'0001750735-23-000024.txt'} because of the error in extracting risk factors.\n"
     ]
    }
   ],
   "source": [
    "for key, value in filePair_dict.items():\n",
    "    fileName = key\n",
    "    fileText = value\n",
    "    mainBody = separate_main_body(fileText) # separate the original text as the table of content and the main body.\n",
    "    \n",
    "    if not mainBody:\n",
    "        print(\"The extraction is failed for\", {fileName}, \"because of the error in seperating main body.\")\n",
    "        continue\n",
    "    \n",
    "    riskText = extract_risk_factors(mainBody, fileName) # extract the risk related text\n",
    "    if not riskText:\n",
    "        print(\"The extraction is failed for\", {fileName}, \"because of the error in extracting risk factors.\")\n",
    "    else:\n",
    "        riskFilePath = \"E:/Jupyter Notebook Files/ISE 540_Text Analytics/Project/Risk Factor Text/Bank Industry/Industry_6021/Raw Text/\" + fileName\n",
    "        with open(riskFilePath, 'w', encoding='utf-8') as file:\n",
    "            file.write(riskText)"
   ]
  },
  {
   "cell_type": "markdown",
   "id": "e421ca1a",
   "metadata": {},
   "source": [
    "### 3. Extract the subjects from raw risk factors text"
   ]
  },
  {
   "cell_type": "code",
   "execution_count": 14,
   "id": "faccc025",
   "metadata": {},
   "outputs": [],
   "source": [
    "rawTextFolderPath = \"E:/Jupyter Notebook Files/ISE 540_Text Analytics/Project/Risk Factor Text/Bank Industry/Industry_6021/Raw Text/\"\n",
    "rawTextFileName_lst = os.listdir(rawTextFolderPath)\n",
    "rawTextFilePair_dict = {} # filePair stores the file name and the corresponding file text.\n",
    "for fileName in rawTextFileName_lst:  \n",
    "    # encode each document\n",
    "    filePath = str(rawTextFolderPath) + str(fileName)    \n",
    "    with open(filePath, 'r', encoding='utf-8') as file:\n",
    "        rawText = file.read()\n",
    "    rawTextFilePair_dict[fileName] = rawText"
   ]
  },
  {
   "cell_type": "code",
   "execution_count": 15,
   "id": "944e7b82",
   "metadata": {},
   "outputs": [
    {
     "name": "stdout",
     "output_type": "stream",
     "text": [
      "The subject fail to extract for {'0001140361-23-011796.txt'}\n",
      "The subject fail to extract for {'0001171843-23-001285.txt'}\n",
      "The subject fail to extract for {'0001174947-23-000382.txt'}\n",
      "The subject fail to extract for {'0001206774-23-000172.txt'}\n",
      "The subject fail to extract for {'0001437749-23-006097.txt'}\n",
      "The subject fail to extract for {'0001437749-23-006159.txt'}\n",
      "The subject fail to extract for {'0001493152-23-009718.txt'}\n",
      "The subject fail to extract for {'0001558370-23-004728.txt'}\n",
      "The subject fail to extract for {'0001562762-23-000110.txt'}\n",
      "The subject fail to extract for {'0001654954-23-003557.txt'}\n"
     ]
    }
   ],
   "source": [
    "subjectFormat_lst = [\"font-weight:700\", \"font-weight:bold\"]\n",
    "for key, value in rawTextFilePair_dict.items():\n",
    "    fileName = key\n",
    "    rawText = value\n",
    "    \n",
    "    i = 0\n",
    "    subject_lst = []\n",
    "    \n",
    "    while not subject_lst:\n",
    "        subjectFormat = subjectFormat_lst[i]\n",
    "        subject_lst = extract_subjects(rawText, subjectFormat)\n",
    "        i += 1\n",
    "        if i >= len(subjectFormat_lst):\n",
    "            break\n",
    "        \n",
    "    if not subject_lst:\n",
    "        print(\"The subject fail to extract for\", {fileName})\n",
    "    else:\n",
    "        subjectFolder = \"E:/Jupyter Notebook Files/ISE 540_Text Analytics/Project/Risk Factor Text/Bank Industry/Industry_6021/Subject/\"\n",
    "        subjectFilePath = subjectFolder + str(fileName)\n",
    "        with open(subjectFilePath, 'w', encoding='utf-8') as file:\n",
    "            for item in subject_lst:\n",
    "                file.write(item + '\\n')"
   ]
  },
  {
   "cell_type": "code",
   "execution_count": null,
   "id": "2bade35e",
   "metadata": {},
   "outputs": [],
   "source": []
  }
 ],
 "metadata": {
  "kernelspec": {
   "display_name": "Python 3 (ipykernel)",
   "language": "python",
   "name": "python3"
  },
  "language_info": {
   "codemirror_mode": {
    "name": "ipython",
    "version": 3
   },
   "file_extension": ".py",
   "mimetype": "text/x-python",
   "name": "python",
   "nbconvert_exporter": "python",
   "pygments_lexer": "ipython3",
   "version": "3.11.5"
  }
 },
 "nbformat": 4,
 "nbformat_minor": 5
}
