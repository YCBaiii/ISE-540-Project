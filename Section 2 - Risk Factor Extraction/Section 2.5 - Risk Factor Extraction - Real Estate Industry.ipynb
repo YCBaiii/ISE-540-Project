{
 "cells": [
  {
   "cell_type": "markdown",
   "id": "209b9203",
   "metadata": {},
   "source": [
    "# Section 2 Risk Factor Extraction\n",
    "\n",
    "In section 1, we have downloaded the fincancial reports from 2019Q1 to 2023Q3. In this section, we are going to extract the risk factor text from each of these files. According to the requirement of the 10-K form given by SEC (https://www.sec.gov/files/form10-k.pdf), there is an section named \"Item 1A. Risk Factors\" included in the form  which shows the potential risks faced by the company. Therefore, it is important for us to filter and cleanse the text from this part so that we can use it for further analysis."
   ]
  },
  {
   "cell_type": "code",
   "execution_count": 1,
   "id": "66732524",
   "metadata": {},
   "outputs": [],
   "source": [
    "import pandas as pd\n",
    "import numpy as np\n",
    "import requests\n",
    "import os\n",
    "import re\n",
    "import html\n",
    "import warnings\n",
    "warnings.filterwarnings(\"ignore\")"
   ]
  },
  {
   "cell_type": "markdown",
   "id": "e4583031",
   "metadata": {},
   "source": [
    "# 2.5 Real Estate Industry (6500, 6798)\n",
    "\n",
    "In this section, we only focus on companies in Real Estate Industry."
   ]
  },
  {
   "cell_type": "markdown",
   "id": "f5597c74",
   "metadata": {},
   "source": [
    "## 2.4.1 Industry 6500\n",
    "\n",
    "### 1. Read in the files and store in a dictionary"
   ]
  },
  {
   "cell_type": "code",
   "execution_count": 2,
   "id": "7d0f61a1",
   "metadata": {},
   "outputs": [],
   "source": [
    "folderPath = \"E:/Jupyter Notebook Files/ISE 540_Text Analytics/Project/Downloaded Financial Reports/Real Estate Industry/Industry_6500/\"\n",
    "fileName_lst = os.listdir(folderPath)\n",
    "filePair_dict = {} # filePair stores the file name and the corresponding file text.\n",
    "for fileName in fileName_lst:  \n",
    "    # encode each document\n",
    "    filePath = str(folderPath) + str(fileName)    \n",
    "    with open(filePath, 'r', encoding='utf-8') as file:\n",
    "        fileText = file.read()\n",
    "    filePair_dict[fileName] = fileText"
   ]
  },
  {
   "cell_type": "code",
   "execution_count": 3,
   "id": "11835912",
   "metadata": {
    "scrolled": true
   },
   "outputs": [
    {
     "data": {
      "text/plain": [
       "dict_keys(['0000096869-23-000006.txt', '0000315858-23-000011.txt', '0000844059-23-000014.txt', '0000894245-23-000030.txt', '0000894245-23-000031.txt', '0000894245-23-000032.txt', '0000894245-23-000034.txt', '0000950170-22-005732.txt', '0000950170-23-003074.txt', '0000950170-23-004172.txt', '0000950170-23-004385.txt', '0000950170-23-007891.txt', '0000950170-23-011406.txt', '0000950170-23-011418.txt', '0001065949-22-000050.txt', '0001138118-23-000009.txt', '0001140361-22-034559.txt', '0001213900-23-024126.txt', '0001299969-23-000010.txt', '0001408100-23-000055.txt', '0001411342-23-000056.txt', '0001437749-23-007690.txt', '0001437749-23-007848.txt', '0001456772-23-000012.txt', '0001476150-23-000004.txt', '0001477932-22-007245.txt', '0001482512-23-000048.txt', '0001493152-22-009873.txt', '0001493152-22-010033.txt', '0001493152-23-008954.txt', '0001493152-23-009286.txt', '0001493152-23-010224.txt', '0001493152-23-010372.txt', '0001515971-22-000147.txt', '0001555074-23-000012.txt', '0001558370-23-002394.txt', '0001558370-23-002846.txt', '0001569187-23-000010.txt', '0001574197-23-000011.txt', '0001611547-23-000008.txt', '0001628280-23-007206.txt', '0001628369-23-000005.txt', '0001640334-22-001937.txt', '0001654954-23-004006.txt', '0001766478-23-000036.txt', '0001822523-23-000006.txt', '0001829126-23-002470.txt', '0001837671-23-000017.txt'])"
      ]
     },
     "execution_count": 3,
     "metadata": {},
     "output_type": "execute_result"
    }
   ],
   "source": [
    "filePair_dict.keys()"
   ]
  },
  {
   "cell_type": "markdown",
   "id": "430007e8",
   "metadata": {},
   "source": [
    "### 2. Extract the raw risk factor text"
   ]
  },
  {
   "cell_type": "code",
   "execution_count": 4,
   "id": "3f5e35d1",
   "metadata": {},
   "outputs": [],
   "source": [
    "def remove_tags(text):\n",
    "    # replace the tag included by <> to a \\ \n",
    "    pattern1 = r'<[^>]*>'\n",
    "    cleanText = re.sub(pattern1, \"|\", text)\n",
    "    \n",
    "    # replace the multiple continued \\ to a single \\\n",
    "    cleanText = re.sub(r'\\s*\\|+\\s*', '|', cleanText)\n",
    "    cleanText = re.sub(r'\\|+', '|', cleanText)\n",
    "    \n",
    "    # replace the unicode\n",
    "    cleanText = html.unescape(cleanText)\n",
    "    \n",
    "    # remove the line break\n",
    "    cleanText = cleanText.replace('\\n', '')\n",
    "    # remove the pure numbers text between \\\n",
    "    cleanText = re.sub(r'\\|(\\d+)\\|', '|', cleanText)\n",
    "    # remove the unrecognized string\n",
    "    cleanText = re.sub(r'|\\xa0\\|', '', cleanText)\n",
    "    cleanText = re.sub(r'|\\xa0|', '', cleanText)\n",
    "    return cleanText"
   ]
  },
  {
   "cell_type": "code",
   "execution_count": 5,
   "id": "d16e20d9",
   "metadata": {},
   "outputs": [],
   "source": [
    "def separate_main_body(text):\n",
    "    lastContentInTC_lst = [\">form 10-k summary<\", \">item 16. form 10-k summary<\", r\">exhibits, financial statement schedules<\", \n",
    "                           r\">exhibits and financial statement schedules<\", r\"exhibits and financial statement schedules <\",\n",
    "                           \">exhibits<\"]\n",
    "    start_idx = -1\n",
    "    for content in lastContentInTC_lst:\n",
    "        if content in text.lower():\n",
    "            start_idx = text.lower().find(content)\n",
    "            break\n",
    "            \n",
    "    if start_idx == -1:\n",
    "        return False\n",
    "    \n",
    "    mainBody = text[start_idx:]\n",
    "    mainBody = html.unescape(mainBody)\n",
    "    return mainBody"
   ]
  },
  {
   "cell_type": "code",
   "execution_count": 6,
   "id": "cfc79098",
   "metadata": {},
   "outputs": [],
   "source": [
    "def extract_risk_factors(mainBody, fileName):\n",
    "    # match the risk factor\n",
    "    keywordMatch = re.findall(r\">item 1a.\\s+risk factors\\.?\\<\", mainBody.lower())\n",
    "    \n",
    "    # if fail to match the pattern, the pattern might be segmented be some html tags, so re-match\n",
    "    if not keywordMatch:\n",
    "        keyword = seperated_keyword_rematch(mainBody)\n",
    "        \n",
    "    # if match the pattern successfully, just keep the keyword of risk factor\n",
    "    else:\n",
    "        keyword = keywordMatch[0]\n",
    "    \n",
    "    # check if match successfully\n",
    "    if not keyword:\n",
    "        return False\n",
    "    keywordCheck_lst = [\"item\", r\"item 1a\\.?\", \"risk\", \"factors\", \"risk factors\"]\n",
    "    if keyword in keywordCheck_lst:\n",
    "        print(\"Warning: It is better to check whether the extraction is correct manually for file\", {fileName})\n",
    "    \n",
    "    # match the next section of the risk factor\n",
    "    nextSectionPattern_lst = [r\">item 1b.\\s+unresolved staff comments\\.?\\<\", r\">item 2.\\s+description of property\\.?\\<\"]\n",
    "    for pattern in nextSectionPattern_lst:\n",
    "        nextSectionMatch = re.findall(pattern, mainBody.lower())\n",
    "        \n",
    "        # if fail to match the pattern, the pattern might be segmented be some html tags, so re-match\n",
    "        if not nextSectionMatch:\n",
    "            nextSection = seperated_next_section_rematch(mainBody, pattern)\n",
    "            # if re-match successfully, jump out of the loop\n",
    "            if nextSection:\n",
    "                break\n",
    "        \n",
    "        # if match the pattern successfully, just keep the next section keyword and jump out of the loop\n",
    "        else:\n",
    "            nextSection = nextSectionMatch[0]\n",
    "            break\n",
    "    \n",
    "    # check if match successfully\n",
    "    if not nextSection:\n",
    "        return False\n",
    "    \n",
    "    # if match successfully, extract the risk factor\n",
    "    start_idx = mainBody.lower().find(keyword) # start index is the position of the keyword occured in the main body\n",
    "    end_idx = mainBody.lower().find(nextSection) # end index is the position of the next section begin in the main body\n",
    "    riskFactors = mainBody[start_idx: end_idx]\n",
    "    return riskFactors"
   ]
  },
  {
   "cell_type": "code",
   "execution_count": 7,
   "id": "b8609aed",
   "metadata": {},
   "outputs": [],
   "source": [
    "def seperated_keyword_rematch(mainBody):\n",
    "    cleanedMainBody = remove_tags(mainBody)\n",
    "    keywordMatch = re.findall(r\"i\\|?t\\|?e\\|?m\\|?\\s+\\|?1\\|?a\\|?.\\|?\\s+\\|?r\\|?i\\|?s\\|?k\\|?\\s+\\|?f\\|?a\\|?c\\|?t\\|?o\\|?r\\|?s\\.?\", cleanedMainBody.lower())\n",
    "    \n",
    "    # check if re-match the keyword of risk factor successfully\n",
    "    if not keywordMatch:\n",
    "        return False\n",
    "    \n",
    "    # if re-match successfully, use the longer segmentation as the keyword of the risk factor\n",
    "    reMatchedKeyword = max(keywordMatch[0].split('|'), key=len)\n",
    "    return reMatchedKeyword\n",
    "    \n",
    "def seperated_next_section_rematch(mainBody, nextSectionPattern):\n",
    "    # cleanse the main body text\n",
    "    cleanedMainBody = remove_tags(mainBody)\n",
    "    \n",
    "    # edit the pattern \n",
    "    edittedPattern = nextSectionPattern.replace(r\">\", \"\").replace(r\"\\s+\", \" \").replace(r\"\\.?\\<\", \"\")\n",
    "    edittedPattern = \"\\|?\".join(edittedPattern)\n",
    "    edittedPattern = r\"{}\\.?\".format(edittedPattern)\n",
    "    pattern = edittedPattern.replace(\" \", \"\\s?+\")\n",
    "    nextSectionMatch = re.findall(pattern, cleanedMainBody.lower())\n",
    "    \n",
    "    # check if re-match the keyword of next section successfully\n",
    "    if not nextSectionMatch:\n",
    "        return False\n",
    "    \n",
    "    # if re-match successfully, use the longer segmentation as the keyword of the next section \n",
    "    reMatchedNextSection = max(nextSectionMatch[0].split('|'), key=len)\n",
    "    return reMatchedNextSection"
   ]
  },
  {
   "cell_type": "code",
   "execution_count": 8,
   "id": "72c7e086",
   "metadata": {
    "scrolled": true
   },
   "outputs": [
    {
     "name": "stdout",
     "output_type": "stream",
     "text": [
      "The extraction is failed for {'0000894245-23-000030.txt'} because of the error in seperating main body.\n",
      "The extraction is failed for {'0000894245-23-000031.txt'} because of the error in seperating main body.\n",
      "The extraction is failed for {'0000894245-23-000032.txt'} because of the error in seperating main body.\n",
      "The extraction is failed for {'0000894245-23-000034.txt'} because of the error in seperating main body.\n",
      "The extraction is failed for {'0000950170-23-007891.txt'} because of the error in seperating main body.\n",
      "The extraction is failed for {'0000950170-23-011406.txt'} because of the error in seperating main body.\n",
      "The extraction is failed for {'0000950170-23-011418.txt'} because of the error in extracting risk factors.\n",
      "The extraction is failed for {'0001299969-23-000010.txt'} because of the error in extracting risk factors.\n",
      "The extraction is failed for {'0001408100-23-000055.txt'} because of the error in extracting risk factors.\n",
      "The extraction is failed for {'0001437749-23-007690.txt'} because of the error in extracting risk factors.\n",
      "The extraction is failed for {'0001437749-23-007848.txt'} because of the error in extracting risk factors.\n",
      "The extraction is failed for {'0001482512-23-000048.txt'} because of the error in extracting risk factors.\n",
      "The extraction is failed for {'0001493152-22-009873.txt'} because of the error in extracting risk factors.\n",
      "The extraction is failed for {'0001493152-22-010033.txt'} because of the error in extracting risk factors.\n",
      "The extraction is failed for {'0001493152-23-008954.txt'} because of the error in extracting risk factors.\n",
      "The extraction is failed for {'0001493152-23-009286.txt'} because of the error in extracting risk factors.\n",
      "The extraction is failed for {'0001493152-23-010224.txt'} because of the error in extracting risk factors.\n",
      "The extraction is failed for {'0001493152-23-010372.txt'} because of the error in extracting risk factors.\n",
      "The extraction is failed for {'0001515971-22-000147.txt'} because of the error in extracting risk factors.\n",
      "The extraction is failed for {'0001555074-23-000012.txt'} because of the error in extracting risk factors.\n",
      "The extraction is failed for {'0001558370-23-002394.txt'} because of the error in seperating main body.\n",
      "The extraction is failed for {'0001569187-23-000010.txt'} because of the error in extracting risk factors.\n",
      "The extraction is failed for {'0001829126-23-002470.txt'} because of the error in extracting risk factors.\n",
      "The extraction is failed for {'0001837671-23-000017.txt'} because of the error in extracting risk factors.\n"
     ]
    }
   ],
   "source": [
    "for key, value in filePair_dict.items():\n",
    "    fileName = key\n",
    "    fileText = value\n",
    "    mainBody = separate_main_body(fileText) # separate the original text as the table of content and the main body.\n",
    "    \n",
    "    if not mainBody:\n",
    "        print(\"The extraction is failed for\", {fileName}, \"because of the error in seperating main body.\")\n",
    "        continue\n",
    "    \n",
    "    riskText = extract_risk_factors(mainBody, fileName) # extract the risk related text\n",
    "    if not riskText:\n",
    "        print(\"The extraction is failed for\", {fileName}, \"because of the error in extracting risk factors.\")\n",
    "    else:\n",
    "        riskFilePath = \"E:/Jupyter Notebook Files/ISE 540_Text Analytics/Project/Risk Factor Text/Real Estate Industry/Industry_6500/Raw Text/\" + fileName\n",
    "        with open(riskFilePath, 'w', encoding='utf-8') as file:\n",
    "            file.write(riskText)"
   ]
  },
  {
   "cell_type": "markdown",
   "id": "243a5e11",
   "metadata": {},
   "source": [
    "### 3. Extract the subjects from raw risk factors text"
   ]
  },
  {
   "cell_type": "code",
   "execution_count": 9,
   "id": "116b58f4",
   "metadata": {},
   "outputs": [],
   "source": [
    "from bs4 import BeautifulSoup\n",
    "\n",
    "def extract_subjects(riskFactors, subjectFormat):\n",
    "    soup = BeautifulSoup(riskFactors, 'html.parser')\n",
    "    subject_lst = []\n",
    "    for span in soup.find_all('span'):\n",
    "        style = span.get('style')\n",
    "        if style and subjectFormat in style:\n",
    "            subject_lst.append(span.get_text())\n",
    "    return subject_lst"
   ]
  },
  {
   "cell_type": "code",
   "execution_count": 10,
   "id": "a8c6f751",
   "metadata": {},
   "outputs": [],
   "source": [
    "rawTextFolderPath = \"E:/Jupyter Notebook Files/ISE 540_Text Analytics/Project/Risk Factor Text/Real Estate Industry/Industry_6500/Raw Text/\"\n",
    "rawTextFileName_lst = os.listdir(rawTextFolderPath)\n",
    "rawTextFilePair_dict = {} # filePair stores the file name and the corresponding file text.\n",
    "for fileName in rawTextFileName_lst:  \n",
    "    # encode each document\n",
    "    filePath = str(rawTextFolderPath) + str(fileName)    \n",
    "    with open(filePath, 'r', encoding='utf-8') as file:\n",
    "        rawText = file.read()\n",
    "    rawTextFilePair_dict[fileName] = rawText"
   ]
  },
  {
   "cell_type": "code",
   "execution_count": 11,
   "id": "1e115c50",
   "metadata": {
    "scrolled": true
   },
   "outputs": [
    {
     "name": "stdout",
     "output_type": "stream",
     "text": [
      "The subject fail to extract for {'0000315858-23-000011.txt'}\n",
      "The subject fail to extract for {'0000844059-23-000014.txt'}\n",
      "The subject fail to extract for {'0001065949-22-000050.txt'}\n",
      "The subject fail to extract for {'0001140361-22-034559.txt'}\n",
      "The subject fail to extract for {'0001213900-23-024126.txt'}\n",
      "The subject fail to extract for {'0001477932-22-007245.txt'}\n",
      "The subject fail to extract for {'0001640334-22-001937.txt'}\n",
      "The subject fail to extract for {'0001654954-23-004006.txt'}\n"
     ]
    }
   ],
   "source": [
    "subjectFormat_lst = [\"font-weight:700\", \"font-weight:bold\"]\n",
    "for key, value in rawTextFilePair_dict.items():\n",
    "    fileName = key\n",
    "    rawText = value\n",
    "    \n",
    "    i = 0\n",
    "    subject_lst = []\n",
    "    \n",
    "    while not subject_lst:\n",
    "        subjectFormat = subjectFormat_lst[i]\n",
    "        subject_lst = extract_subjects(rawText, subjectFormat)\n",
    "        i += 1\n",
    "        if i >= len(subjectFormat_lst):\n",
    "            break\n",
    "        \n",
    "    if not subject_lst:\n",
    "        print(\"The subject fail to extract for\", {fileName})\n",
    "    else:\n",
    "        subjectFolder = \"E:/Jupyter Notebook Files/ISE 540_Text Analytics/Project/Risk Factor Text/Real Estate Industry/Industry_6500/Subject/\"\n",
    "        subjectFilePath = subjectFolder + str(fileName)\n",
    "        with open(subjectFilePath, 'w', encoding='utf-8') as file:\n",
    "            for item in subject_lst:\n",
    "                file.write(item + '\\n')"
   ]
  },
  {
   "cell_type": "markdown",
   "id": "34a084bd",
   "metadata": {},
   "source": [
    "---"
   ]
  },
  {
   "cell_type": "markdown",
   "id": "012c298d",
   "metadata": {},
   "source": [
    "## 2.2.2 Industry 6798\n",
    "\n",
    "### 1. Read in the files and store in a dictionary"
   ]
  },
  {
   "cell_type": "code",
   "execution_count": 12,
   "id": "cb765df8",
   "metadata": {},
   "outputs": [],
   "source": [
    "folderPath = \"E:/Jupyter Notebook Files/ISE 540_Text Analytics/Project/Downloaded Financial Reports/Real Estate Industry/Industry_6798/\"\n",
    "fileName_lst = os.listdir(folderPath)\n",
    "filePair_dict = {} # filePair stores the file name and the corresponding file text.\n",
    "for fileName in fileName_lst:  \n",
    "    # encode each document\n",
    "    filePath = str(folderPath) + str(fileName)    \n",
    "    with open(filePath, 'r', encoding='utf-8') as file:\n",
    "        fileText = file.read()\n",
    "    filePair_dict[fileName] = fileText"
   ]
  },
  {
   "cell_type": "markdown",
   "id": "d4bf0ee7",
   "metadata": {},
   "source": [
    "### 2. Extract the raw risk factor text"
   ]
  },
  {
   "cell_type": "code",
   "execution_count": 15,
   "id": "4d7ba613",
   "metadata": {
    "scrolled": true
   },
   "outputs": [
    {
     "name": "stdout",
     "output_type": "stream",
     "text": [
      "The extraction is failed for {'0000003499-23-000005.txt'} because of the error in seperating main body.\n",
      "The extraction is failed for {'0000052827-23-000035.txt'} because of the error in extracting risk factors.\n",
      "The extraction is failed for {'0000104894-23-000028.txt'} because of the error in extracting risk factors.\n",
      "The extraction is failed for {'0000733590-23-000003.txt'} because of the error in extracting risk factors.\n",
      "The extraction is failed for {'0000766704-23-000010.txt'} because of the error in extracting risk factors.\n",
      "The extraction is failed for {'0000790816-23-000013.txt'} because of the error in seperating main body.\n",
      "The extraction is failed for {'0000803649-23-000030.txt'} because of the error in extracting risk factors.\n",
      "The extraction is failed for {'0000842183-23-000015.txt'} because of the error in extracting risk factors.\n",
      "The extraction is failed for {'0000877860-23-000015.txt'} because of the error in seperating main body.\n",
      "The extraction is failed for {'0000888491-23-000006.txt'} because of the error in extracting risk factors.\n",
      "The extraction is failed for {'0000899715-23-000044.txt'} because of the error in extracting risk factors.\n",
      "The extraction is failed for {'0000906345-23-000008.txt'} because of the error in extracting risk factors.\n",
      "The extraction is failed for {'0000908311-23-000020.txt'} because of the error in extracting risk factors.\n",
      "The extraction is failed for {'0000921825-23-000011.txt'} because of the error in extracting risk factors.\n",
      "The extraction is failed for {'0000950170-23-003076.txt'} because of the error in extracting risk factors.\n",
      "The extraction is failed for {'0000950170-23-003217.txt'} because of the error in extracting risk factors.\n",
      "The extraction is failed for {'0000950170-23-003449.txt'} because of the error in extracting risk factors.\n",
      "The extraction is failed for {'0000950170-23-004115.txt'} because of the error in extracting risk factors.\n",
      "The extraction is failed for {'0000950170-23-004655.txt'} because of the error in extracting risk factors.\n",
      "The extraction is failed for {'0000950170-23-005575.txt'} because of the error in extracting risk factors.\n",
      "The extraction is failed for {'0000950170-23-005961.txt'} because of the error in extracting risk factors.\n",
      "The extraction is failed for {'0000950170-23-008980.txt'} because of the error in extracting risk factors.\n",
      "The extraction is failed for {'0000950170-23-009154.txt'} because of the error in extracting risk factors.\n",
      "The extraction is failed for {'0001034054-23-000002.txt'} because of the error in extracting risk factors.\n",
      "The extraction is failed for {'0001040971-23-000009.txt'} because of the error in seperating main body.\n",
      "The extraction is failed for {'0001053507-23-000023.txt'} because of the error in extracting risk factors.\n",
      "The extraction is failed for {'0001075415-23-000008.txt'} because of the error in extracting risk factors.\n",
      "The extraction is failed for {'0001099910-22-000071.txt'} because of the error in seperating main body.\n",
      "The extraction is failed for {'0001140361-22-034979.txt'} because of the error in extracting risk factors.\n",
      "The extraction is failed for {'0001174947-23-000058.txt'} because of the error in extracting risk factors.\n",
      "The extraction is failed for {'0001193125-22-093292.txt'} because of the error in extracting risk factors.\n",
      "The extraction is failed for {'0001193125-23-045574.txt'} because of the error in extracting risk factors.\n",
      "The extraction is failed for {'0001193125-23-082066.txt'} because of the error in seperating main body.\n",
      "The extraction is failed for {'0001213900-23-025415.txt'} because of the error in extracting risk factors.\n",
      "The extraction is failed for {'0001273685-23-000045.txt'} because of the error in extracting risk factors.\n",
      "The extraction is failed for {'0001298675-23-000009.txt'} because of the error in extracting risk factors.\n",
      "The extraction is failed for {'0001298946-23-000015.txt'} because of the error in extracting risk factors.\n",
      "The extraction is failed for {'0001347652-23-000035.txt'} because of the error in extracting risk factors.\n",
      "The extraction is failed for {'0001387131-23-003916.txt'} because of the error in extracting risk factors.\n",
      "The extraction is failed for {'0001393311-23-000012.txt'} because of the error in extracting risk factors.\n",
      "The extraction is failed for {'0001407623-23-000042.txt'} because of the error in seperating main body.\n",
      "The extraction is failed for {'0001410578-23-000330.txt'} because of the error in extracting risk factors.\n",
      "The extraction is failed for {'0001410578-23-000507.txt'} because of the error in extracting risk factors.\n",
      "The extraction is failed for {'0001410578-23-000527.txt'} because of the error in seperating main body.\n",
      "The extraction is failed for {'0001423689-23-000017.txt'} because of the error in extracting risk factors.\n",
      "The extraction is failed for {'0001428205-23-000032.txt'} because of the error in seperating main body.\n",
      "The extraction is failed for {'0001437749-23-005355.txt'} because of the error in extracting risk factors.\n",
      "The extraction is failed for {'0001437749-23-005812.txt'} because of the error in extracting risk factors.\n",
      "The extraction is failed for {'0001437749-23-006158.txt'} because of the error in seperating main body.\n",
      "The extraction is failed for {'0001437749-23-006886.txt'} because of the error in seperating main body.\n",
      "The extraction is failed for {'0001437749-23-008641.txt'} because of the error in extracting risk factors.\n",
      "The extraction is failed for {'0001444838-23-000006.txt'} because of the error in extracting risk factors.\n",
      "The extraction is failed for {'0001467760-23-000004.txt'} because of the error in seperating main body.\n",
      "The extraction is failed for {'0001474098-23-000038.txt'} because of the error in extracting risk factors.\n",
      "The extraction is failed for {'0001479094-23-000005.txt'} because of the error in extracting risk factors.\n",
      "The extraction is failed for {'0001492298-23-000006.txt'} because of the error in extracting risk factors.\n",
      "The extraction is failed for {'0001493152-22-015364.txt'} because of the error in extracting risk factors.\n",
      "The extraction is failed for {'0001493152-22-024093.txt'} because of the error in extracting risk factors.\n",
      "The extraction is failed for {'0001493152-23-006265.txt'} because of the error in seperating main body.\n",
      "The extraction is failed for {'0001493152-23-007249.txt'} because of the error in extracting risk factors.\n",
      "The extraction is failed for {'0001493152-23-007254.txt'} because of the error in extracting risk factors.\n",
      "The extraction is failed for {'0001493152-23-009013.txt'} because of the error in extracting risk factors.\n",
      "The extraction is failed for {'0001493152-23-010313.txt'} because of the error in extracting risk factors.\n",
      "The extraction is failed for {'0001495240-23-000005.txt'} because of the error in extracting risk factors.\n",
      "The extraction is failed for {'0001500217-23-000010.txt'} because of the error in extracting risk factors.\n",
      "The extraction is failed for {'0001511337-23-000007.txt'} because of the error in extracting risk factors.\n",
      "The extraction is failed for {'0001514281-23-000020.txt'} because of the error in extracting risk factors.\n",
      "The extraction is failed for {'0001527541-23-000013.txt'} because of the error in extracting risk factors.\n",
      "The extraction is failed for {'0001542447-23-000021.txt'} because of the error in extracting risk factors.\n",
      "The extraction is failed for {'0001556593-23-000012.txt'} because of the error in extracting risk factors.\n",
      "The extraction is failed for {'0001558370-23-001274.txt'} because of the error in extracting risk factors.\n",
      "The extraction is failed for {'0001558370-23-001423.txt'} because of the error in extracting risk factors.\n",
      "The extraction is failed for {'0001558370-23-001639.txt'} because of the error in extracting risk factors.\n",
      "The extraction is failed for {'0001558370-23-001675.txt'} because of the error in seperating main body.\n",
      "The extraction is failed for {'0001558370-23-001933.txt'} because of the error in extracting risk factors.\n",
      "The extraction is failed for {'0001558370-23-003472.txt'} because of the error in extracting risk factors.\n",
      "The extraction is failed for {'0001558370-23-003726.txt'} because of the error in extracting risk factors.\n"
     ]
    },
    {
     "name": "stdout",
     "output_type": "stream",
     "text": [
      "The extraction is failed for {'0001558370-23-004185.txt'} because of the error in extracting risk factors.\n",
      "The extraction is failed for {'0001558370-23-004201.txt'} because of the error in extracting risk factors.\n",
      "The extraction is failed for {'0001558370-23-004357.txt'} because of the error in extracting risk factors.\n",
      "The extraction is failed for {'0001558370-23-004524.txt'} because of the error in extracting risk factors.\n",
      "The extraction is failed for {'0001564590-23-002430.txt'} because of the error in extracting risk factors.\n",
      "The extraction is failed for {'0001575311-23-000009.txt'} because of the error in seperating main body.\n",
      "The extraction is failed for {'0001575965-23-000007.txt'} because of the error in extracting risk factors.\n",
      "The extraction is failed for {'0001628280-23-002955.txt'} because of the error in extracting risk factors.\n",
      "The extraction is failed for {'0001628280-23-003601.txt'} because of the error in extracting risk factors.\n",
      "The extraction is failed for {'0001628280-23-004039.txt'} because of the error in extracting risk factors.\n",
      "The extraction is failed for {'0001628280-23-004975.txt'} because of the error in extracting risk factors.\n",
      "The extraction is failed for {'0001628280-23-005628.txt'} because of the error in extracting risk factors.\n",
      "The extraction is failed for {'0001628280-23-007598.txt'} because of the error in extracting risk factors.\n",
      "The extraction is failed for {'0001628280-23-009136.txt'} because of the error in seperating main body.\n",
      "The extraction is failed for {'0001656423-23-000013.txt'} because of the error in extracting risk factors.\n",
      "The extraction is failed for {'0001692951-23-000052.txt'} because of the error in extracting risk factors.\n",
      "The extraction is failed for {'0001705696-23-000035.txt'} because of the error in extracting risk factors.\n",
      "The extraction is failed for {'0001713407-23-000025.txt'} because of the error in extracting risk factors.\n",
      "The extraction is failed for {'0001717547-23-000009.txt'} because of the error in extracting risk factors.\n",
      "The extraction is failed for {'0001786248-23-000007.txt'} because of the error in seperating main body.\n",
      "The extraction is failed for {'0001798100-23-000008.txt'} because of the error in extracting risk factors.\n",
      "The extraction is failed for {'0001829126-23-002333.txt'} because of the error in extracting risk factors.\n",
      "The extraction is failed for {'0001829126-23-002380.txt'} because of the error in seperating main body.\n",
      "The extraction is failed for {'0001829126-23-002381.txt'} because of the error in extracting risk factors.\n",
      "The extraction is failed for {'0001829126-23-002389.txt'} because of the error in extracting risk factors.\n",
      "The extraction is failed for {'0001829126-23-002434.txt'} because of the error in extracting risk factors.\n",
      "The extraction is failed for {'0001854964-23-000007.txt'} because of the error in seperating main body.\n"
     ]
    }
   ],
   "source": [
    "for key, value in filePair_dict.items():\n",
    "    fileName = key\n",
    "    fileText = value\n",
    "    mainBody = separate_main_body(fileText) # separate the original text as the table of content and the main body.\n",
    "    \n",
    "    if not mainBody:\n",
    "        print(\"The extraction is failed for\", {fileName}, \"because of the error in seperating main body.\")\n",
    "        continue\n",
    "    \n",
    "    riskText = extract_risk_factors(mainBody, fileName) # extract the risk related text\n",
    "    if not riskText:\n",
    "        print(\"The extraction is failed for\", {fileName}, \"because of the error in extracting risk factors.\")\n",
    "    else:\n",
    "        riskFilePath = \"E:/Jupyter Notebook Files/ISE 540_Text Analytics/Project/Risk Factor Text/Real Estate Industry/Industry_6798/Raw Text/\" + fileName\n",
    "        with open(riskFilePath, 'w', encoding='utf-8') as file:\n",
    "            file.write(riskText)"
   ]
  },
  {
   "cell_type": "markdown",
   "id": "701c2c28",
   "metadata": {},
   "source": [
    "### 3. Extract the subjects from raw risk factors text"
   ]
  },
  {
   "cell_type": "code",
   "execution_count": 16,
   "id": "daeee7db",
   "metadata": {},
   "outputs": [],
   "source": [
    "rawTextFolderPath = \"E:/Jupyter Notebook Files/ISE 540_Text Analytics/Project/Risk Factor Text/Real Estate Industry/Industry_6798/Raw Text/\"\n",
    "rawTextFileName_lst = os.listdir(rawTextFolderPath)\n",
    "rawTextFilePair_dict = {} # filePair stores the file name and the corresponding file text.\n",
    "for fileName in rawTextFileName_lst:  \n",
    "    # encode each document\n",
    "    filePath = str(rawTextFolderPath) + str(fileName)    \n",
    "    with open(filePath, 'r', encoding='utf-8') as file:\n",
    "        rawText = file.read()\n",
    "    rawTextFilePair_dict[fileName] = rawText"
   ]
  },
  {
   "cell_type": "code",
   "execution_count": 17,
   "id": "8c8ffea8",
   "metadata": {
    "scrolled": true
   },
   "outputs": [
    {
     "name": "stdout",
     "output_type": "stream",
     "text": [
      "The subject fail to extract for {'0001029800-23-000012.txt'}\n",
      "The subject fail to extract for {'0001140361-23-010492.txt'}\n",
      "The subject fail to extract for {'0001171520-23-000122.txt'}\n",
      "The subject fail to extract for {'0001213900-22-019847.txt'}\n",
      "The subject fail to extract for {'0001213900-23-018678.txt'}\n",
      "The subject fail to extract for {'0001387131-23-004110.txt'}\n",
      "The subject fail to extract for {'0001437749-23-004541.txt'}\n",
      "The subject fail to extract for {'0001437749-23-007552.txt'}\n",
      "The subject fail to extract for {'0001437749-23-008235.txt'}\n"
     ]
    }
   ],
   "source": [
    "subjectFormat_lst = [\"font-weight:700\", \"font-weight:bold\"]\n",
    "for key, value in rawTextFilePair_dict.items():\n",
    "    fileName = key\n",
    "    rawText = value\n",
    "    \n",
    "    i = 0\n",
    "    subject_lst = []\n",
    "    \n",
    "    while not subject_lst:\n",
    "        subjectFormat = subjectFormat_lst[i]\n",
    "        subject_lst = extract_subjects(rawText, subjectFormat)\n",
    "        i += 1\n",
    "        if i >= len(subjectFormat_lst):\n",
    "            break\n",
    "        \n",
    "    if not subject_lst:\n",
    "        print(\"The subject fail to extract for\", {fileName})\n",
    "    else:\n",
    "        subjectFolder = \"E:/Jupyter Notebook Files/ISE 540_Text Analytics/Project/Risk Factor Text/Real Estate Industry/Industry_6798/Subject/\"\n",
    "        subjectFilePath = subjectFolder + str(fileName)\n",
    "        with open(subjectFilePath, 'w', encoding='utf-8') as file:\n",
    "            for item in subject_lst:\n",
    "                file.write(item + '\\n')"
   ]
  },
  {
   "cell_type": "code",
   "execution_count": null,
   "id": "180cd19b",
   "metadata": {},
   "outputs": [],
   "source": []
  }
 ],
 "metadata": {
  "kernelspec": {
   "display_name": "Python 3 (ipykernel)",
   "language": "python",
   "name": "python3"
  },
  "language_info": {
   "codemirror_mode": {
    "name": "ipython",
    "version": 3
   },
   "file_extension": ".py",
   "mimetype": "text/x-python",
   "name": "python",
   "nbconvert_exporter": "python",
   "pygments_lexer": "ipython3",
   "version": "3.11.5"
  }
 },
 "nbformat": 4,
 "nbformat_minor": 5
}
