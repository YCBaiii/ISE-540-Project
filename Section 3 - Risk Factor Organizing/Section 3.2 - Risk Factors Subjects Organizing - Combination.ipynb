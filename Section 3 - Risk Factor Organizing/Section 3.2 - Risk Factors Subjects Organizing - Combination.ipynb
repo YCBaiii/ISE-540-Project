{
 "cells": [
  {
   "cell_type": "code",
   "execution_count": 1,
   "id": "dd7c83be",
   "metadata": {},
   "outputs": [],
   "source": [
    "import pandas as pd\n",
    "import numpy as np\n",
    "import os\n",
    "import warnings\n",
    "warnings.filterwarnings(\"ignore\")"
   ]
  },
  {
   "cell_type": "code",
   "execution_count": 2,
   "id": "aa9b3b3f",
   "metadata": {},
   "outputs": [],
   "source": [
    "folderPath = \"E:/Jupyter Notebook Files/ISE 540_Text Analytics/Project/Risk Factor Text/Labeled Risk Factor Subject/\"\n",
    "fileName_lst = os.listdir(folderPath)\n",
    "df_lst = []\n",
    "for fileName in fileName_lst:\n",
    "    filePath = str(folderPath) + str(fileName)    \n",
    "    df_lst.append(pd.read_csv(filePath))"
   ]
  },
  {
   "cell_type": "code",
   "execution_count": 3,
   "id": "11a51bb7",
   "metadata": {},
   "outputs": [
    {
     "data": {
      "text/html": [
       "<div>\n",
       "<style scoped>\n",
       "    .dataframe tbody tr th:only-of-type {\n",
       "        vertical-align: middle;\n",
       "    }\n",
       "\n",
       "    .dataframe tbody tr th {\n",
       "        vertical-align: top;\n",
       "    }\n",
       "\n",
       "    .dataframe thead th {\n",
       "        text-align: right;\n",
       "    }\n",
       "</style>\n",
       "<table border=\"1\" class=\"dataframe\">\n",
       "  <thead>\n",
       "    <tr style=\"text-align: right;\">\n",
       "      <th></th>\n",
       "      <th>adsh</th>\n",
       "      <th>Risk Factors</th>\n",
       "      <th>Label 1</th>\n",
       "      <th>Label 1 - details</th>\n",
       "      <th>Label 2</th>\n",
       "      <th>Label 2 - details</th>\n",
       "    </tr>\n",
       "  </thead>\n",
       "  <tbody>\n",
       "    <tr>\n",
       "      <th>0</th>\n",
       "      <td>0000036966-23-000016</td>\n",
       "      <td>Risks Related to the Pending TD Merger</td>\n",
       "      <td>Strategy risk</td>\n",
       "      <td>Merger &amp; Acquisition</td>\n",
       "      <td>NaN</td>\n",
       "      <td>NaN</td>\n",
       "    </tr>\n",
       "    <tr>\n",
       "      <th>1</th>\n",
       "      <td>0000036966-23-000016</td>\n",
       "      <td>Receipt of regulatory approvals for the Pendin...</td>\n",
       "      <td>Strategy risk</td>\n",
       "      <td>NaN</td>\n",
       "      <td>NaN</td>\n",
       "      <td>NaN</td>\n",
       "    </tr>\n",
       "    <tr>\n",
       "      <th>2</th>\n",
       "      <td>0000036966-23-000016</td>\n",
       "      <td>Regulatory approvals may not be received, have...</td>\n",
       "      <td>Legal and regulatory risk</td>\n",
       "      <td>NaN</td>\n",
       "      <td>NaN</td>\n",
       "      <td>NaN</td>\n",
       "    </tr>\n",
       "    <tr>\n",
       "      <th>3</th>\n",
       "      <td>0000036966-23-000016</td>\n",
       "      <td>The TD Merger Agreement may be terminated in a...</td>\n",
       "      <td>Strategy risk</td>\n",
       "      <td>Merger &amp; Acquisition</td>\n",
       "      <td>NaN</td>\n",
       "      <td>NaN</td>\n",
       "    </tr>\n",
       "    <tr>\n",
       "      <th>4</th>\n",
       "      <td>0000036966-23-000016</td>\n",
       "      <td>Failure to complete the Pending TD Merger coul...</td>\n",
       "      <td>Market risk</td>\n",
       "      <td>Stock Price Fluctuate</td>\n",
       "      <td>NaN</td>\n",
       "      <td>NaN</td>\n",
       "    </tr>\n",
       "  </tbody>\n",
       "</table>\n",
       "</div>"
      ],
      "text/plain": [
       "                   adsh                                       Risk Factors  \\\n",
       "0  0000036966-23-000016             Risks Related to the Pending TD Merger   \n",
       "1  0000036966-23-000016  Receipt of regulatory approvals for the Pendin...   \n",
       "2  0000036966-23-000016  Regulatory approvals may not be received, have...   \n",
       "3  0000036966-23-000016  The TD Merger Agreement may be terminated in a...   \n",
       "4  0000036966-23-000016  Failure to complete the Pending TD Merger coul...   \n",
       "\n",
       "                     Label 1      Label 1 - details Label 2 Label 2 - details  \n",
       "0              Strategy risk   Merger & Acquisition     NaN               NaN  \n",
       "1              Strategy risk                    NaN     NaN               NaN  \n",
       "2  Legal and regulatory risk                    NaN     NaN               NaN  \n",
       "3              Strategy risk   Merger & Acquisition     NaN               NaN  \n",
       "4                Market risk  Stock Price Fluctuate     NaN               NaN  "
      ]
     },
     "execution_count": 3,
     "metadata": {},
     "output_type": "execute_result"
    }
   ],
   "source": [
    "risk_df = pd.concat(df_lst, axis=0)\n",
    "column_lst = [\"adsh\", \"Risk Factors\", \"Label 1\", \"Label 1 - details\", \"Label 2\", \"Label 2 - details\"]\n",
    "risk_df = risk_df[column_lst]\n",
    "risk_df.head()"
   ]
  },
  {
   "cell_type": "code",
   "execution_count": 10,
   "id": "bebf457d",
   "metadata": {},
   "outputs": [],
   "source": [
    "risk_df[\"Label 1\"] = risk_df[\"Label 1\"].str.lower()\n",
    "risk_df[\"Label 1\"].replace(\"strategic risk\", \"strategy risk\", inplace=True)"
   ]
  },
  {
   "cell_type": "code",
   "execution_count": 11,
   "id": "ef41256a",
   "metadata": {},
   "outputs": [
    {
     "data": {
      "text/plain": [
       "10"
      ]
     },
     "execution_count": 11,
     "metadata": {},
     "output_type": "execute_result"
    }
   ],
   "source": [
    "risk_df[\"Label 1\"].nunique()"
   ]
  },
  {
   "cell_type": "code",
   "execution_count": 13,
   "id": "ddf6bc1c",
   "metadata": {},
   "outputs": [],
   "source": [
    "risk_df.to_csv(\"risk.csv\", index=False)"
   ]
  },
  {
   "cell_type": "code",
   "execution_count": null,
   "id": "25668ec6",
   "metadata": {},
   "outputs": [],
   "source": []
  },
  {
   "cell_type": "code",
   "execution_count": 15,
   "id": "65d2e487",
   "metadata": {},
   "outputs": [
    {
     "name": "stdout",
     "output_type": "stream",
     "text": [
      "The first 5 records in the corpus are shown below: \n",
      "                    adsh                                       Risk Factors\n",
      "0  0000007332-23-000005  Natural gas, oil and NGL prices and basis diff...\n",
      "1  0000007332-23-000005  Significant capital investment is required to ...\n",
      "2  0000007332-23-000005  If we are not able to develop and replace rese...\n",
      "3  0000007332-23-000005  Our business depends on access to natural gas,...\n",
      "4  0000007332-23-000005  Strategic determinations, including the alloca... \n",
      "\n",
      "There are 33103 records in the corpus.\n"
     ]
    }
   ],
   "source": [
    "folderPath = \"E:/Jupyter Notebook Files/ISE 540_Text Analytics/Project/Risk Factor Text/Risk Factor Subject Text Summary/\"\n",
    "fileName_lst = os.listdir(folderPath)\n",
    "df_lst = []\n",
    "for fileName in fileName_lst:\n",
    "    filePath = str(folderPath) + str(fileName)\n",
    "    df_lst.append(pd.read_csv(filePath))\n",
    "riskCorpus_df = pd.concat(df_lst, axis=0)\n",
    "print(\"The first 5 records in the corpus are shown below: \\n\", riskCorpus_df.head(), \"\\n\")\n",
    "print(\"There are\", len(riskCorpus_df), \"records in the corpus.\")"
   ]
  },
  {
   "cell_type": "code",
   "execution_count": 16,
   "id": "1ef4fee2",
   "metadata": {},
   "outputs": [],
   "source": [
    "riskCorpus_df.to_csv(\"risk corpus.csv\", index=False)"
   ]
  },
  {
   "cell_type": "code",
   "execution_count": null,
   "id": "2a569f65",
   "metadata": {},
   "outputs": [],
   "source": []
  }
 ],
 "metadata": {
  "kernelspec": {
   "display_name": "Python 3 (ipykernel)",
   "language": "python",
   "name": "python3"
  },
  "language_info": {
   "codemirror_mode": {
    "name": "ipython",
    "version": 3
   },
   "file_extension": ".py",
   "mimetype": "text/x-python",
   "name": "python",
   "nbconvert_exporter": "python",
   "pygments_lexer": "ipython3",
   "version": "3.11.5"
  }
 },
 "nbformat": 4,
 "nbformat_minor": 5
}
